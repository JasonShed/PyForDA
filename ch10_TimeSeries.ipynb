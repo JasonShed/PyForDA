{
 "cells": [
  {
   "cell_type": "markdown",
   "metadata": {
    "collapsed": true
   },
   "source": [
    "## 时间序列\n",
    "时间序列数据分以下几种：\n",
    "- 时间戳\n",
    "- 固定时期\n",
    "- 时间间隔\n",
    "\n",
    "Python标准库中用于日期(data)和时间(time)数据的数据类型\n",
    "- datetime模块\n",
    "- time模块\n",
    "- calendar模块"
   ]
  },
  {
   "cell_type": "code",
   "execution_count": 2,
   "metadata": {},
   "outputs": [
    {
     "name": "stdout",
     "output_type": "stream",
     "text": [
      "2017-05-03 20:49:07.955000\n<type 'datetime.datetime'>\n<type 'int'>\n2017年5月3日20时49分7秒\n"
     ]
    }
   ],
   "source": [
    "'''datetime：以毫秒形式存储日期和时间'''\n",
    "from datetime import datetime\n",
    "import pandas as pd \n",
    "import numpy as np\n",
    "\n",
    "now=datetime.now()\n",
    "print(now)\n",
    "print(type(now)) \n",
    "print(type(now.microsecond)) \n",
    "print(str(now.year)+'年'+str(now.month)+'月'+str(now.day)+'日'+str(now.hour)+'时'+str(now.minute)+'分'+str(now.second)+'秒')"
   ]
  },
  {
   "cell_type": "markdown",
   "metadata": {},
   "source": [
    "### datetime模块中的数据类型\n",
    "![](http://i2.muimg.com/567571/787ec75907501b9d.png)"
   ]
  },
  {
   "cell_type": "code",
   "execution_count": 9,
   "metadata": {},
   "outputs": [
    {
     "name": "stdout",
     "output_type": "stream",
     "text": [
      "926 days, 15:45:00\n<type 'datetime.timedelta'>\n"
     ]
    }
   ],
   "source": [
    "'''用datetime.timedelta表示两个datetime对象之间的时间差'''\n",
    "delta=datetime(2011,1,7)-datetime(2008,6,24,8,15)\n",
    "print(delta)\n",
    "print(type(delta))"
   ]
  },
  {
   "cell_type": "code",
   "execution_count": 15,
   "metadata": {},
   "outputs": [
    {
     "name": "stdout",
     "output_type": "stream",
     "text": [
      "[datetime.datetime(2017, 5, 1, 0, 0), datetime.datetime(2016, 5, 1, 0, 0)]\n"
     ]
    }
   ],
   "source": [
    "'''datetime.strptime'''\n",
    "time1=['2017-05-01','2016-05-01']\n",
    "print([datetime.strptime(i,'%Y-%m-%d') for i in time1])"
   ]
  },
  {
   "cell_type": "code",
   "execution_count": 19,
   "metadata": {},
   "outputs": [
    {
     "name": "stdout",
     "output_type": "stream",
     "text": [
      "DatetimeIndex(['2015-07-12', '2016-05-06', 'NaT'], dtype='datetime64[ns]', freq=None)\n"
     ]
    }
   ],
   "source": [
    "'''pandas的to_datetime()解析多种不同的日期表示形式'''\n",
    "dt1=['7/12/2015','5/6/2016']\n",
    "print(pd.to_datetime(dt1+[None])) #[None]处理缺失值，NaT(Not a Time)是pandas中时间戳数据的NA值"
   ]
  },
  {
   "cell_type": "code",
   "execution_count": 4,
   "metadata": {},
   "outputs": [
    {
     "name": "stdout",
     "output_type": "stream",
     "text": [
      "2016-01-02    0.063656\n2016-01-05    1.015813\n2016-01-07   -0.733707\n2016-01-14   -1.179360\n2016-01-17   -0.936616\n2016-01-20   -0.211832\ndtype: float64\n-------------------\n<class 'pandas.core.series.Series'>\n-------------------\nDatetimeIndex(['2016-01-02', '2016-01-05', '2016-01-07', '2016-01-14',\n               '2016-01-17', '2016-01-20'],\n              dtype='datetime64[ns]', freq=None)\n-------------------\n2016-01-07 00:00:00\n<class 'pandas.tslib.Timestamp'>\n"
     ]
    }
   ],
   "source": [
    "'''时间戳为索引的Series'''\n",
    "#dt2中的datetime对象是存放在一个DatetimeIndex中的\n",
    "dt2=[datetime(2016,1,2),datetime(2016,1,5),datetime(2016,1,7),datetime(2016,1,14),datetime(2016,1,17),datetime(2016,1,20)]\n",
    "arr1=pd.Series(np.random.randn(6),index=dt2)\n",
    "print(arr1)\n",
    "print('-------------------')\n",
    "print(type(arr1)) #arr1是一个TimeSeries\n",
    "print('-------------------')\n",
    "print(arr1.index) #pandas用NumPy的datatime64数据类型以纳秒(ns)形式存储时间戳\n",
    "print('-------------------')\n",
    "print(arr1.index[2])\n",
    "print(type(arr1.index[2])) #DatetimeIndex中各个标量值是pandas的Timestamp对象"
   ]
  },
  {
   "cell_type": "code",
   "execution_count": 5,
   "metadata": {},
   "outputs": [
    {
     "name": "stdout",
     "output_type": "stream",
     "text": [
      "2016-01-02   -0.188051\n2016-01-05    0.278473\n2016-01-07   -0.645694\n2016-01-14   -0.623303\n2016-01-17    0.486498\n2016-01-20    1.029388\ndtype: float64\n-0.623303032822\n0.486498266986\n-------------------\n2017-01-01    0.422297\n2017-01-08    0.985423\n2017-01-15   -0.078065\n2017-01-22    1.351250\n2017-01-29    0.659384\n2017-02-05    0.920617\n2017-02-12    0.181504\n2017-02-19    0.145558\n2017-02-26   -2.240103\n2017-03-05   -0.029864\nFreq: W-SUN, dtype: float64\n-------------------\n2017-01-01    0.422297\n2017-01-08    0.985423\n2017-01-15   -0.078065\n2017-01-22    1.351250\n2017-01-29    0.659384\nFreq: W-SUN, dtype: float64\n-------------------\n2017-02-12    0.181504\n2017-02-19    0.145558\n2017-02-26   -2.240103\n2017-03-05   -0.029864\nFreq: W-SUN, dtype: float64\n-------------------\n2017-03-05   -0.029864\nFreq: W-SUN, dtype: float64\n-------------------\n2017-02-05    0.920617\n2017-02-12    0.181504\n2017-02-19    0.145558\n2017-02-26   -2.240103\n2017-03-05   -0.029864\nFreq: W-SUN, dtype: float64\n"
     ]
    }
   ],
   "source": [
    "dt3=[datetime(2016,1,2),datetime(2016,1,5),datetime(2016,1,7),datetime(2016,1,14),datetime(2016,1,17),datetime(2016,1,20)]\n",
    "arr2=pd.Series(np.random.randn(6),index=dt2)\n",
    "#通过传入一个可以被解释为日期的字符串作为索引\n",
    "print(arr2)\n",
    "print(arr2['20160114'])\n",
    "print(arr2['1/17/2016'])\n",
    "print('-------------------')\n",
    "arr3=pd.Series(np.random.randn(10),index=pd.date_range('1/1/2017',periods=10,freq='W')) #freq的参数'w'表示频率间隔为weekly\n",
    "print(arr3)\n",
    "print('-------------------')\n",
    "#通过输入特定的年月可以选取数据的切片\n",
    "print(arr3['2017-01']) \n",
    "print('-------------------')\n",
    "print(arr3[datetime(2017,2,12):])\n",
    "print('-------------------')\n",
    "print(arr3['2017-03-01':'2017-07-01']) #切片范围可以超出数据的范围\n",
    "print('-------------------')\n",
    "print(arr3.truncate(before='2017-02-05')) #截断该日期前的数据(取出该日期后的数据)。after参数则相反"
   ]
  },
  {
   "cell_type": "code",
   "execution_count": 51,
   "metadata": {},
   "outputs": [
    {
     "name": "stdout",
     "output_type": "stream",
     "text": [
      "                   a         b         c         d\n2017-01-01  0.319147  0.995083 -0.063343  0.361745\n2017-01-08 -0.660898  1.063969  1.438154  0.233394\n2017-01-15  0.474133  0.922500 -1.059700 -0.807684\n2017-01-22  0.549245  1.002593 -0.188812 -0.584192\n2017-01-29 -0.023371  1.342699 -0.703796  0.221889\n2017-02-05 -1.209670 -0.398946  0.243542  0.343868\n2017-02-12  0.557387 -1.418794 -1.765443  0.093713\n2017-02-19  1.779852 -1.304426  0.585054  1.066391\n2017-02-26 -1.481359 -0.698616 -1.207452  0.090489\n2017-03-05  1.956331  1.319873  0.310050 -0.673371\n                   a         b         c         d\n2017-01-01  0.319147  0.995083 -0.063343  0.361745\n2017-01-08 -0.660898  1.063969  1.438154  0.233394\n2017-01-15  0.474133  0.922500 -1.059700 -0.807684\n2017-01-22  0.549245  1.002593 -0.188812 -0.584192\n2017-01-29 -0.023371  1.342699 -0.703796  0.221889\n"
     ]
    }
   ],
   "source": [
    "#对DataFrame的行进行索引\n",
    "dt4=pd.date_range('1/1/2017',periods=10,freq='w')\n",
    "data1=pd.DataFrame(np.random.randn(10,4),index=dt4,columns=['a','b','c','d'])\n",
    "print(data1)\n",
    "print(data1.ix['2017-01'])"
   ]
  },
  {
   "cell_type": "code",
   "execution_count": 11,
   "metadata": {},
   "outputs": [
    {
     "name": "stdout",
     "output_type": "stream",
     "text": [
      "2000-01-01    0\n2000-01-02    1\n2000-01-02    2\n2000-01-02    3\n2000-01-03    4\ndtype: int32\n-------------------\nFalse\n-------------------\n<pandas.core.groupby.SeriesGroupBy object at 0x0000000005722828>\n-------------------\n2000-01-01    0\n2000-01-02    2\n2000-01-03    4\ndtype: int32\n2000-01-01    1\n2000-01-02    3\n2000-01-03    1\ndtype: int64\n"
     ]
    }
   ],
   "source": [
    "'''带有重复索引的时间序列'''\n",
    "data2=pd.Series(np.arange(5),index=pd.DatetimeIndex(['1/1/2000','1/2/2000','1/2/2000','1/2/2000','1/3/2000']))\n",
    "print(data2)\n",
    "print('-------------------')\n",
    "print(data2.index.is_unique)\n",
    "print('-------------------')\n",
    "grouped=data2.groupby(level=0)\n",
    "print(grouped)\n",
    "print('-------------------')\n",
    "print(grouped.mean())\n",
    "print(grouped.count())"
   ]
  },
  {
   "cell_type": "code",
   "execution_count": 19,
   "metadata": {},
   "outputs": [
    {
     "name": "stdout",
     "output_type": "stream",
     "text": [
      "DatetimeIndex(['2017-01-01', '2017-01-02', '2017-01-03', '2017-01-04',\n               '2017-01-05', '2017-01-06', '2017-01-07', '2017-01-08',\n               '2017-01-09', '2017-01-10',\n               ...\n               '2017-05-23', '2017-05-24', '2017-05-25', '2017-05-26',\n               '2017-05-27', '2017-05-28', '2017-05-29', '2017-05-30',\n               '2017-05-31', '2017-06-01'],\n              dtype='datetime64[ns]', length=152, freq='D')\n-------------------\nDatetimeIndex(['2017-01-01', '2017-01-02', '2017-01-03', '2017-01-04',\n               '2017-01-05', '2017-01-06', '2017-01-07', '2017-01-08',\n               '2017-01-09', '2017-01-10'],\n              dtype='datetime64[ns]', freq='D')\n-------------------\nDatetimeIndex(['2016-12-23', '2016-12-24', '2016-12-25', '2016-12-26',\n               '2016-12-27', '2016-12-28', '2016-12-29', '2016-12-30',\n               '2016-12-31', '2017-01-01'],\n              dtype='datetime64[ns]', freq='D')\n-------------------\nDatetimeIndex(['2016-01-29', '2016-02-29', '2016-03-31', '2016-04-29',\n               '2016-05-31', '2016-06-30', '2016-07-29', '2016-08-31',\n               '2016-09-30', '2016-10-31', '2016-11-30'],\n              dtype='datetime64[ns]', freq='BM')\n"
     ]
    }
   ],
   "source": [
    "'''pandas.date_range():生成日期范围'''\n",
    "dt5=pd.date_range('1/1/2017','6/1/2017') #默认按天计算\n",
    "print(dt5)\n",
    "print('-------------------')\n",
    "dt6=pd.date_range(start='1/1/2017',periods=10)\n",
    "print(dt6)\n",
    "print('-------------------')\n",
    "dt7=pd.date_range(end='1/1/2017',periods=10)\n",
    "print(dt7)\n",
    "print('-------------------')\n",
    "#生成一个由每月最后一个工作日组成的日期索引\n",
    "dt8=pd.date_range('1/1/2016','12/1/2016',freq='BM')\n",
    "print(dt8)"
   ]
  },
  {
   "cell_type": "code",
   "execution_count": 25,
   "metadata": {},
   "outputs": [
    {
     "name": "stdout",
     "output_type": "stream",
     "text": [
      "DatetimeIndex(['2016-01-01 00:00:00', '2016-01-01 06:30:00',\n               '2016-01-01 13:00:00', '2016-01-01 19:30:00',\n               '2016-01-02 02:00:00'],\n              dtype='datetime64[ns]', freq='390T')\n-------------------\nDatetimeIndex(['2016-01-15', '2016-02-19', '2016-03-18', '2016-04-15',\n               '2016-05-20'],\n              dtype='datetime64[ns]', freq='WOM-3FRI')\n"
     ]
    }
   ],
   "source": [
    "'''频率和日期偏移量'''\n",
    "dt9=pd.date_range('1/1/2016',freq='6H30min',periods=5)\n",
    "print(dt9)\n",
    "print('-------------------')\n",
    "dt10=pd.date_range('1/1/2016',freq='WOM-3FRI',periods=5) #每月第三个星期五\n",
    "print(dt10)"
   ]
  },
  {
   "cell_type": "markdown",
   "metadata": {},
   "source": [
    "### 时间序列的基础频率\n",
    "![](http://i1.piimg.com/567571/82875f23f32def17.png)\n",
    "![](http://i4.buimg.com/567571/6f42dfb6263093af.png)"
   ]
  },
  {
   "cell_type": "code",
   "execution_count": 30,
   "metadata": {},
   "outputs": [
    {
     "name": "stdout",
     "output_type": "stream",
     "text": [
      "2016-01-31   -0.960279\n2016-02-29    0.916248\n2016-03-31   -0.789328\n2016-04-30    2.333411\n2016-05-31    0.184923\nFreq: M, dtype: float64\n-------------------\n2016-01-31         NaN\n2016-02-29         NaN\n2016-03-31   -0.960279\n2016-04-30    0.916248\n2016-05-31   -0.789328\nFreq: M, dtype: float64\n-------------------\n2016-01-31   -0.789328\n2016-02-29    2.333411\n2016-03-31    0.184923\n2016-04-30         NaN\n2016-05-31         NaN\nFreq: M, dtype: float64\n-------------------\n2016-03-31   -0.960279\n2016-04-30    0.916248\n2016-05-31   -0.789328\n2016-06-30    2.333411\n2016-07-31    0.184923\nFreq: M, dtype: float64\n"
     ]
    }
   ],
   "source": [
    "'''shift():移动(超前和滞后)数据\n",
    "    Series和DataFrame都有shift()'''\n",
    "arr4=pd.Series(np.random.randn(5),index=pd.date_range('1/1/2016',periods=5,freq='M'))\n",
    "print(arr4)\n",
    "print('-------------------')\n",
    "print(arr4.shift(2))\n",
    "print('-------------------')\n",
    "print(arr4.shift(-2))\n",
    "print('-------------------')\n",
    "print(arr4.shift(2,freq='M')) #加上freq参数会改变时间戳，数据不变"
   ]
  },
  {
   "cell_type": "code",
   "execution_count": 40,
   "metadata": {},
   "outputs": [
    {
     "name": "stdout",
     "output_type": "stream",
     "text": [
      "2016-01-01 00:00:00\n-------------------\n2016-01-04 00:00:00\n-------------------\n2016-02-29 00:00:00\n-------------------\n2015-12-31 00:00:00\n-------------------\n2016-01-31 00:00:00\n"
     ]
    }
   ],
   "source": [
    "''''''\n",
    "from pandas.tseries.offsets import Day,MonthEnd\n",
    "dt11=pd.datetime(2016,1,1)\n",
    "print(dt11)\n",
    "print('-------------------')\n",
    "print(dt11+3*Day())\n",
    "print('-------------------')\n",
    "print(dt11+MonthEnd(2)) #月末\n",
    "print('-------------------')\n",
    "'''通过锚点偏移量的rollforward()和rollback()显示将日期前/后移动'''\n",
    "dt12=MonthEnd()\n",
    "print(dt12.rollback(dt11))\n",
    "print('-------------------')\n",
    "print(dt12.rollforward(dt11))"
   ]
  },
  {
   "cell_type": "code",
   "execution_count": null,
   "metadata": {},
   "outputs": [],
   "source": [
    ""
   ]
  }
 ],
 "metadata": {
  "kernelspec": {
   "display_name": "Python 2",
   "language": "python",
   "name": "python2"
  },
  "language_info": {
   "codemirror_mode": {
    "name": "ipython",
    "version": 2.0
   },
   "file_extension": ".py",
   "mimetype": "text/x-python",
   "name": "python",
   "nbconvert_exporter": "python",
   "pygments_lexer": "ipython2",
   "version": "2.7.6"
  }
 },
 "nbformat": 4,
 "nbformat_minor": 0
}