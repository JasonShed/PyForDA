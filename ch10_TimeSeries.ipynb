{
 "cells": [
  {
   "cell_type": "markdown",
   "metadata": {
    "collapsed": true
   },
   "source": [
    "## 时间序列\n",
    "时间序列数据分以下几种：\n",
    "- 时间戳\n",
    "- 固定时期\n",
    "- 时间间隔\n",
    "\n",
    "Python标准库中用于日期(data)和时间(time)数据的数据类型\n",
    "- datetime模块\n",
    "- time模块\n",
    "- calendar模块"
   ]
  },
  {
   "cell_type": "code",
   "execution_count": 4,
   "metadata": {},
   "outputs": [
    {
     "name": "stdout",
     "output_type": "stream",
     "text": [
      "2017-05-04 13:56:44.125959\n<class 'datetime.datetime'>\n<class 'int'>\n2017年5月4日13时56分44秒\n"
     ]
    }
   ],
   "source": [
    "'''datetime：以毫秒形式存储日期和时间'''\n",
    "from datetime import datetime\n",
    "import pandas as pd \n",
    "import numpy as np\n",
    "\n",
    "now=datetime.now()\n",
    "print(now)\n",
    "print(type(now)) \n",
    "print(type(now.microsecond)) \n",
    "print(str(now.year)+'年'+str(now.month)+'月'+str(now.day)+'日'+str(now.hour)+'时'+str(now.minute)+'分'+str(now.second)+'秒')"
   ]
  },
  {
   "cell_type": "markdown",
   "metadata": {},
   "source": [
    "### datetime模块中的数据类型\n",
    "![](http://i2.muimg.com/567571/787ec75907501b9d.png)"
   ]
  },
  {
   "cell_type": "code",
   "execution_count": 9,
   "metadata": {},
   "outputs": [
    {
     "name": "stdout",
     "output_type": "stream",
     "text": [
      "926 days, 15:45:00\n<type 'datetime.timedelta'>\n"
     ]
    }
   ],
   "source": [
    "'''用datetime.timedelta表示两个datetime对象之间的时间差'''\n",
    "delta=datetime(2011,1,7)-datetime(2008,6,24,8,15)\n",
    "print(delta)\n",
    "print(type(delta))"
   ]
  },
  {
   "cell_type": "code",
   "execution_count": 15,
   "metadata": {},
   "outputs": [
    {
     "name": "stdout",
     "output_type": "stream",
     "text": [
      "[datetime.datetime(2017, 5, 1, 0, 0), datetime.datetime(2016, 5, 1, 0, 0)]\n"
     ]
    }
   ],
   "source": [
    "'''datetime.strptime'''\n",
    "time1=['2017-05-01','2016-05-01']\n",
    "print([datetime.strptime(i,'%Y-%m-%d') for i in time1])"
   ]
  },
  {
   "cell_type": "code",
   "execution_count": 19,
   "metadata": {},
   "outputs": [
    {
     "name": "stdout",
     "output_type": "stream",
     "text": [
      "DatetimeIndex(['2015-07-12', '2016-05-06', 'NaT'], dtype='datetime64[ns]', freq=None)\n"
     ]
    }
   ],
   "source": [
    "'''pandas的to_datetime()解析多种不同的日期表示形式'''\n",
    "dt1=['7/12/2015','5/6/2016']\n",
    "print(pd.to_datetime(dt1+[None])) #[None]处理缺失值，NaT(Not a Time)是pandas中时间戳数据的NA值"
   ]
  },
  {
   "cell_type": "code",
   "execution_count": 4,
   "metadata": {},
   "outputs": [
    {
     "name": "stdout",
     "output_type": "stream",
     "text": [
      "2016-01-02    0.063656\n2016-01-05    1.015813\n2016-01-07   -0.733707\n2016-01-14   -1.179360\n2016-01-17   -0.936616\n2016-01-20   -0.211832\ndtype: float64\n-------------------\n<class 'pandas.core.series.Series'>\n-------------------\nDatetimeIndex(['2016-01-02', '2016-01-05', '2016-01-07', '2016-01-14',\n               '2016-01-17', '2016-01-20'],\n              dtype='datetime64[ns]', freq=None)\n-------------------\n2016-01-07 00:00:00\n<class 'pandas.tslib.Timestamp'>\n"
     ]
    }
   ],
   "source": [
    "'''时间戳为索引的Series'''\n",
    "#dt2中的datetime对象是存放在一个DatetimeIndex中的\n",
    "dt2=[datetime(2016,1,2),datetime(2016,1,5),datetime(2016,1,7),datetime(2016,1,14),datetime(2016,1,17),datetime(2016,1,20)]\n",
    "arr1=pd.Series(np.random.randn(6),index=dt2)\n",
    "print(arr1)\n",
    "print('-------------------')\n",
    "print(type(arr1)) #arr1是一个TimeSeries\n",
    "print('-------------------')\n",
    "print(arr1.index) #pandas用NumPy的datatime64数据类型以纳秒(ns)形式存储时间戳\n",
    "print('-------------------')\n",
    "print(arr1.index[2])\n",
    "print(type(arr1.index[2])) #DatetimeIndex中各个标量值是pandas的Timestamp对象"
   ]
  },
  {
   "cell_type": "code",
   "execution_count": 5,
   "metadata": {},
   "outputs": [
    {
     "name": "stdout",
     "output_type": "stream",
     "text": [
      "2016-01-02   -0.188051\n2016-01-05    0.278473\n2016-01-07   -0.645694\n2016-01-14   -0.623303\n2016-01-17    0.486498\n2016-01-20    1.029388\ndtype: float64\n-0.623303032822\n0.486498266986\n-------------------\n2017-01-01    0.422297\n2017-01-08    0.985423\n2017-01-15   -0.078065\n2017-01-22    1.351250\n2017-01-29    0.659384\n2017-02-05    0.920617\n2017-02-12    0.181504\n2017-02-19    0.145558\n2017-02-26   -2.240103\n2017-03-05   -0.029864\nFreq: W-SUN, dtype: float64\n-------------------\n2017-01-01    0.422297\n2017-01-08    0.985423\n2017-01-15   -0.078065\n2017-01-22    1.351250\n2017-01-29    0.659384\nFreq: W-SUN, dtype: float64\n-------------------\n2017-02-12    0.181504\n2017-02-19    0.145558\n2017-02-26   -2.240103\n2017-03-05   -0.029864\nFreq: W-SUN, dtype: float64\n-------------------\n2017-03-05   -0.029864\nFreq: W-SUN, dtype: float64\n-------------------\n2017-02-05    0.920617\n2017-02-12    0.181504\n2017-02-19    0.145558\n2017-02-26   -2.240103\n2017-03-05   -0.029864\nFreq: W-SUN, dtype: float64\n"
     ]
    }
   ],
   "source": [
    "dt3=[datetime(2016,1,2),datetime(2016,1,5),datetime(2016,1,7),datetime(2016,1,14),datetime(2016,1,17),datetime(2016,1,20)]\n",
    "arr2=pd.Series(np.random.randn(6),index=dt2)\n",
    "#通过传入一个可以被解释为日期的字符串作为索引\n",
    "print(arr2)\n",
    "print(arr2['20160114'])\n",
    "print(arr2['1/17/2016'])\n",
    "print('-------------------')\n",
    "arr3=pd.Series(np.random.randn(10),index=pd.date_range('1/1/2017',periods=10,freq='W')) #freq的参数'w'表示频率间隔为weekly\n",
    "print(arr3)\n",
    "print('-------------------')\n",
    "#通过输入特定的年月可以选取数据的切片\n",
    "print(arr3['2017-01']) \n",
    "print('-------------------')\n",
    "print(arr3[datetime(2017,2,12):])\n",
    "print('-------------------')\n",
    "print(arr3['2017-03-01':'2017-07-01']) #切片范围可以超出数据的范围\n",
    "print('-------------------')\n",
    "print(arr3.truncate(before='2017-02-05')) #截断该日期前的数据(取出该日期后的数据)。after参数则相反"
   ]
  },
  {
   "cell_type": "code",
   "execution_count": 10,
   "metadata": {},
   "outputs": [
    {
     "name": "stdout",
     "output_type": "stream",
     "text": [
      "                   a         b         c         d\n2017-01-01  0.421400  1.427183 -0.922165  0.258315\n2017-01-08  0.468205 -1.466844  0.890884 -0.385098\n2017-01-15  0.570835 -0.581138 -0.632268 -0.514594\n2017-01-22 -0.010575 -0.898109  1.104357  0.912409\n2017-01-29 -0.163005 -0.666772  0.346769 -0.887127\n2017-02-05 -0.198647 -0.936097  0.035645 -0.748998\n2017-02-12  0.154769 -1.302936  0.713325 -0.802149\n2017-02-19 -0.584378  0.030048 -0.791228  0.184610\n2017-02-26 -2.412804  0.133939 -0.179434  0.075582\n2017-03-05  0.496822  1.098271  0.428028  0.348694\n-------------------\n                   a         b         c         d\n2017-01-01  0.421400  1.427183 -0.922165  0.258315\n2017-01-08  0.468205 -1.466844  0.890884 -0.385098\n2017-01-15  0.570835 -0.581138 -0.632268 -0.514594\n2017-01-22 -0.010575 -0.898109  1.104357  0.912409\n2017-01-29 -0.163005 -0.666772  0.346769 -0.887127\n"
     ]
    }
   ],
   "source": [
    "#对DataFrame的行进行索引\n",
    "dt4=pd.date_range('1/1/2017',periods=10,freq='w')\n",
    "data1=pd.DataFrame(np.random.randn(10,4),index=dt4,columns=['a','b','c','d'])\n",
    "print(data1)\n",
    "print('-------------------')\n",
    "print(data1.ix['2017-01'])"
   ]
  },
  {
   "cell_type": "code",
   "execution_count": 11,
   "metadata": {},
   "outputs": [
    {
     "name": "stdout",
     "output_type": "stream",
     "text": [
      "2000-01-01    0\n2000-01-02    1\n2000-01-02    2\n2000-01-02    3\n2000-01-03    4\ndtype: int32\n-------------------\nFalse\n-------------------\n<pandas.core.groupby.SeriesGroupBy object at 0x0000000005722828>\n-------------------\n2000-01-01    0\n2000-01-02    2\n2000-01-03    4\ndtype: int32\n2000-01-01    1\n2000-01-02    3\n2000-01-03    1\ndtype: int64\n"
     ]
    }
   ],
   "source": [
    "'''带有重复索引的时间序列'''\n",
    "data2=pd.Series(np.arange(5),index=pd.DatetimeIndex(['1/1/2000','1/2/2000','1/2/2000','1/2/2000','1/3/2000']))\n",
    "print(data2)\n",
    "print('-------------------')\n",
    "print(data2.index.is_unique)\n",
    "print('-------------------')\n",
    "grouped=data2.groupby(level=0)\n",
    "print(grouped)\n",
    "print('-------------------')\n",
    "print(grouped.mean())\n",
    "print(grouped.count())"
   ]
  },
  {
   "cell_type": "code",
   "execution_count": 19,
   "metadata": {},
   "outputs": [
    {
     "name": "stdout",
     "output_type": "stream",
     "text": [
      "DatetimeIndex(['2017-01-01', '2017-01-02', '2017-01-03', '2017-01-04',\n               '2017-01-05', '2017-01-06', '2017-01-07', '2017-01-08',\n               '2017-01-09', '2017-01-10',\n               ...\n               '2017-05-23', '2017-05-24', '2017-05-25', '2017-05-26',\n               '2017-05-27', '2017-05-28', '2017-05-29', '2017-05-30',\n               '2017-05-31', '2017-06-01'],\n              dtype='datetime64[ns]', length=152, freq='D')\n-------------------\nDatetimeIndex(['2017-01-01', '2017-01-02', '2017-01-03', '2017-01-04',\n               '2017-01-05', '2017-01-06', '2017-01-07', '2017-01-08',\n               '2017-01-09', '2017-01-10'],\n              dtype='datetime64[ns]', freq='D')\n-------------------\nDatetimeIndex(['2016-12-23', '2016-12-24', '2016-12-25', '2016-12-26',\n               '2016-12-27', '2016-12-28', '2016-12-29', '2016-12-30',\n               '2016-12-31', '2017-01-01'],\n              dtype='datetime64[ns]', freq='D')\n-------------------\nDatetimeIndex(['2016-01-29', '2016-02-29', '2016-03-31', '2016-04-29',\n               '2016-05-31', '2016-06-30', '2016-07-29', '2016-08-31',\n               '2016-09-30', '2016-10-31', '2016-11-30'],\n              dtype='datetime64[ns]', freq='BM')\n"
     ]
    }
   ],
   "source": [
    "'''pandas.date_range():生成日期范围'''\n",
    "dt5=pd.date_range('1/1/2017','6/1/2017') #默认按天计算\n",
    "print(dt5)\n",
    "print('-------------------')\n",
    "dt6=pd.date_range(start='1/1/2017',periods=10)\n",
    "print(dt6)\n",
    "print('-------------------')\n",
    "dt7=pd.date_range(end='1/1/2017',periods=10)\n",
    "print(dt7)\n",
    "print('-------------------')\n",
    "#生成一个由每月最后一个工作日组成的日期索引\n",
    "dt8=pd.date_range('1/1/2016','12/1/2016',freq='BM')\n",
    "print(dt8)"
   ]
  },
  {
   "cell_type": "code",
   "execution_count": 25,
   "metadata": {},
   "outputs": [
    {
     "name": "stdout",
     "output_type": "stream",
     "text": [
      "DatetimeIndex(['2016-01-01 00:00:00', '2016-01-01 06:30:00',\n               '2016-01-01 13:00:00', '2016-01-01 19:30:00',\n               '2016-01-02 02:00:00'],\n              dtype='datetime64[ns]', freq='390T')\n-------------------\nDatetimeIndex(['2016-01-15', '2016-02-19', '2016-03-18', '2016-04-15',\n               '2016-05-20'],\n              dtype='datetime64[ns]', freq='WOM-3FRI')\n"
     ]
    }
   ],
   "source": [
    "'''频率和日期偏移量'''\n",
    "dt9=pd.date_range('1/1/2016',freq='6H30min',periods=5)\n",
    "print(dt9)\n",
    "print('-------------------')\n",
    "dt10=pd.date_range('1/1/2016',freq='WOM-3FRI',periods=5) #每月第三个星期五\n",
    "print(dt10)"
   ]
  },
  {
   "cell_type": "markdown",
   "metadata": {},
   "source": [
    "### 时间序列的基础频率\n",
    "![](http://i1.piimg.com/567571/82875f23f32def17.png)\n",
    "![](http://i4.buimg.com/567571/6f42dfb6263093af.png)"
   ]
  },
  {
   "cell_type": "code",
   "execution_count": 30,
   "metadata": {},
   "outputs": [
    {
     "name": "stdout",
     "output_type": "stream",
     "text": [
      "2016-01-31   -0.960279\n2016-02-29    0.916248\n2016-03-31   -0.789328\n2016-04-30    2.333411\n2016-05-31    0.184923\nFreq: M, dtype: float64\n-------------------\n2016-01-31         NaN\n2016-02-29         NaN\n2016-03-31   -0.960279\n2016-04-30    0.916248\n2016-05-31   -0.789328\nFreq: M, dtype: float64\n-------------------\n2016-01-31   -0.789328\n2016-02-29    2.333411\n2016-03-31    0.184923\n2016-04-30         NaN\n2016-05-31         NaN\nFreq: M, dtype: float64\n-------------------\n2016-03-31   -0.960279\n2016-04-30    0.916248\n2016-05-31   -0.789328\n2016-06-30    2.333411\n2016-07-31    0.184923\nFreq: M, dtype: float64\n"
     ]
    }
   ],
   "source": [
    "'''shift():移动(超前和滞后)数据\n",
    "    Series和DataFrame都有shift()'''\n",
    "arr4=pd.Series(np.random.randn(5),index=pd.date_range('1/1/2016',periods=5,freq='M'))\n",
    "print(arr4)\n",
    "print('-------------------')\n",
    "print(arr4.shift(2))\n",
    "print('-------------------')\n",
    "print(arr4.shift(-2))\n",
    "print('-------------------')\n",
    "print(arr4.shift(2,freq='M')) #加上freq参数会改变时间戳，数据不变"
   ]
  },
  {
   "cell_type": "code",
   "execution_count": 40,
   "metadata": {},
   "outputs": [
    {
     "name": "stdout",
     "output_type": "stream",
     "text": [
      "2016-01-01 00:00:00\n-------------------\n2016-01-04 00:00:00\n-------------------\n2016-02-29 00:00:00\n-------------------\n2015-12-31 00:00:00\n-------------------\n2016-01-31 00:00:00\n"
     ]
    }
   ],
   "source": [
    "'''datetime和Timestamp对象的锚点偏移量'''\n",
    "from pandas.tseries.offsets import Day,MonthEnd\n",
    "dt11=pd.datetime(2016,1,1)\n",
    "print(dt11)\n",
    "print('-------------------')\n",
    "print(dt11+3*Day())\n",
    "print('-------------------')\n",
    "print(dt11+MonthEnd(2)) #月末\n",
    "print('-------------------')\n",
    "'''通过锚点偏移量的rollforward()和rollback()显示将日期前/后移动'''\n",
    "dt12=MonthEnd()\n",
    "print(dt12.rollback(dt11))\n",
    "print('-------------------')\n",
    "print(dt12.rollforward(dt11))"
   ]
  },
  {
   "cell_type": "code",
   "execution_count": 14,
   "metadata": {},
   "outputs": [
    {
     "name": "stdout",
     "output_type": "stream",
     "text": [
      "['Africa/Abidjan', 'Africa/Accra', 'Africa/Addis_Ababa', 'Africa/Algiers', 'Africa/Asmara', 'Africa/Bamako', 'Africa/Bangui', 'Africa/Banjul', 'Africa/Bissau', 'Africa/Blantyre']\n-------------------\nAsia/Hong_Kong\n"
     ]
    }
   ],
   "source": [
    "'''时区处理:第三方库pytz'''\n",
    "import pytz\n",
    "print(pytz.common_timezones[:10]) #具体时区查看函数文档\n",
    "print('-------------------')\n",
    "print(pytz.timezone('Asia/Hong_Kong'))"
   ]
  },
  {
   "cell_type": "code",
   "execution_count": 32,
   "metadata": {},
   "outputs": [
    {
     "name": "stdout",
     "output_type": "stream",
     "text": [
      "DatetimeIndex(['2016-01-01', '2016-01-06', '2016-01-11', '2016-01-16',\n               '2016-01-21', '2016-01-26'],\n              dtype='datetime64[ns]', freq='5D')\n-------------------\n2016-01-01    2.905693\n2016-01-06   -1.185942\n2016-01-11   -0.788497\n2016-01-16    1.230321\n2016-01-21    0.236404\n2016-01-26    0.956794\nFreq: 5D, dtype: float64\n-------------------\nNone\n-------------------\n2016-01-01 00:00:00+00:00    2.905693\n2016-01-06 00:00:00+00:00   -1.185942\n2016-01-11 00:00:00+00:00   -0.788497\n2016-01-16 00:00:00+00:00    1.230321\n2016-01-21 00:00:00+00:00    0.236404\n2016-01-26 00:00:00+00:00    0.956794\nFreq: 5D, dtype: float64\n-------------------\nUTC\n-------------------\n2015-12-31 19:00:00-05:00    2.905693\n2016-01-05 19:00:00-05:00   -1.185942\n2016-01-10 19:00:00-05:00   -0.788497\n2016-01-15 19:00:00-05:00    1.230321\n2016-01-20 19:00:00-05:00    0.236404\n2016-01-25 19:00:00-05:00    0.956794\nFreq: 5D, dtype: float64\n-------------------\nDatetimeIndex(['2016-01-01', '2016-01-06', '2016-01-11', '2016-01-16',\n               '2016-01-21', '2016-01-26'],\n              dtype='datetime64[ns, Asia/Shanghai]', freq='5D')\n<class 'pandas.tseries.index.DatetimeIndex'>\n"
     ]
    }
   ],
   "source": [
    "'''转换'''\n",
    "dt13=pd.date_range('1/1/2016',freq='5D',periods=6) #tz参数设置时区\n",
    "print(dt13)\n",
    "print('-------------------')\n",
    "arr5=pd.Series(np.random.randn(len(dt13)),index=dt13)\n",
    "print(arr5)\n",
    "print('-------------------')\n",
    "print(arr5.index.tz) #未设置dt13的tz参数，这里显示None\n",
    "print('-------------------')\n",
    "arr6=arr5.tz_localize('UTC') #时区本地化\n",
    "print(arr6)\n",
    "print('-------------------')\n",
    "print(arr6.index.tz)\n",
    "print('-------------------')\n",
    "print(arr6.tz_convert('US/Eastern')) #时区转换\n",
    "print('-------------------')\n",
    "print(arr6.index.tz_convert('Asia/Shanghai'))\n",
    "print(type(arr6.index.tz_convert('Asia/Shanghai')))\n",
    "#tz_localize和tz_convert也是DatatimeIndex的实例方法"
   ]
  },
  {
   "cell_type": "code",
   "execution_count": 41,
   "metadata": {},
   "outputs": [
    {
     "name": "stdout",
     "output_type": "stream",
     "text": [
      "2016-01-01 03:00:00\n2016-01-01 03:00:00+00:00\n2016-01-01 06:00:00+00:00\n2015-12-31 22:00:00-05:00\n"
     ]
    }
   ],
   "source": [
    "'''Timestamp对象也有tz_localize()和tz_convert()'''\n",
    "from pandas.tseries.offsets import Hour\n",
    "arr7=pd.Timestamp('2016-1-1 03:00') #可以设置tz参数设置本地化\n",
    "print(arr7)\n",
    "dt14=arr7.tz_localize('utc')\n",
    "print(dt14)\n",
    "print(dt14+3*Hour())\n",
    "print(dt14.tz_convert('US/Eastern'))"
   ]
  },
  {
   "cell_type": "code",
   "execution_count": 62,
   "metadata": {},
   "outputs": [
    {
     "name": "stdout",
     "output_type": "stream",
     "text": [
      "2016-01-01 09:30:00+08:00    1.636739\n2016-01-02 09:30:00+08:00   -0.132835\n2016-01-03 09:30:00+08:00   -0.482658\n2016-01-04 09:30:00+08:00    0.664478\n2016-01-05 09:30:00+08:00    0.884106\n2016-01-06 09:30:00+08:00   -0.751474\n2016-01-07 09:30:00+08:00    1.032989\n2016-01-08 09:30:00+08:00    0.577336\n2016-01-09 09:30:00+08:00    0.888638\n2016-01-10 09:30:00+08:00   -0.247780\nFreq: D, dtype: float64\n-------------------\n2016-01-04 04:30:00+03:00    0.664478\n2016-01-05 04:30:00+03:00    0.884106\n2016-01-06 04:30:00+03:00   -0.751474\n2016-01-07 04:30:00+03:00    1.032989\n2016-01-08 04:30:00+03:00    0.577336\n2016-01-09 04:30:00+03:00    0.888638\n2016-01-10 04:30:00+03:00   -0.247780\nFreq: D, dtype: float64\n-------------------\nDatetimeIndex(['2016-01-01 01:30:00+00:00', '2016-01-02 01:30:00+00:00',\n               '2016-01-03 01:30:00+00:00', '2016-01-04 01:30:00+00:00',\n               '2016-01-05 01:30:00+00:00', '2016-01-06 01:30:00+00:00',\n               '2016-01-07 01:30:00+00:00', '2016-01-08 01:30:00+00:00',\n               '2016-01-09 01:30:00+00:00', '2016-01-10 01:30:00+00:00'],\n              dtype='datetime64[ns, UTC]', freq='D')\n"
     ]
    }
   ],
   "source": [
    "'''不同时区之间的运算'''\n",
    "dt15=pd.date_range('1/1/2016 9:30',periods=10)\n",
    "arr8=pd.Series(np.random.randn(len(dt15)),index=dt15)\n",
    "arr9=arr8[:].tz_localize('Asia/Hong_Kong')\n",
    "print(arr9)\n",
    "print('-------------------')\n",
    "arr10=arr9[3:].tz_convert('Europe/Moscow')\n",
    "print(arr10)\n",
    "print('-------------------')\n",
    "arr11=arr9[:3]+arr10\n",
    "print(arr11.index)"
   ]
  },
  {
   "cell_type": "code",
   "execution_count": 79,
   "metadata": {},
   "outputs": [
    {
     "data": {
      "text/plain": [
       "Period('2016', 'A-DEC')"
      ]
     },
     "execution_count": 79,
     "metadata": {},
     "output_type": "execute_result"
    }
   ],
   "source": [
    "'''pandas.Period():时间区间函数，比如数日，数月，数年，数季'''\n",
    "p1=pd.Period(2016,freq='A-DEC')\n",
    "p1 #p1表示从2016年1月1日到2016年12月31日之间的整段时间"
   ]
  },
  {
   "cell_type": "code",
   "execution_count": 66,
   "metadata": {},
   "outputs": [
    {
     "data": {
      "text/plain": [
       "Period('2013', 'A-DEC')"
      ]
     },
     "execution_count": 66,
     "metadata": {},
     "output_type": "execute_result"
    }
   ],
   "source": [
    "#对Period对象加减一个整数就可以对其频率进行位移\n",
    "p1-3"
   ]
  },
  {
   "cell_type": "code",
   "execution_count": 85,
   "metadata": {},
   "outputs": [
    {
     "name": "stdout",
     "output_type": "stream",
     "text": [
      "PeriodIndex(['2015-01', '2015-02', '2015-03', '2015-04', '2015-05', '2015-06',\n             '2015-07', '2015-08', '2015-09', '2015-10', '2015-11', '2015-12',\n             '2016-01'],\n            dtype='period[M]', freq='M')\n-------------------\n<class 'pandas.tseries.period.PeriodIndex'>\n-------------------\n2015-01   -0.920101\n2015-02   -1.150425\n2015-03   -0.079614\n2015-04    0.006693\n2015-05    0.001807\n2015-06    0.920500\n2015-07   -0.810788\n2015-08   -0.284013\n2015-09    1.287293\n2015-10    2.074458\n2015-11    0.051415\n2015-12    1.146126\n2016-01   -0.963153\nFreq: M, dtype: float64\n"
     ]
    }
   ],
   "source": [
    "p2=pd.period_range('1/1/2015','1/1/2016',freq=\"M\")\n",
    "print(p2)\n",
    "print('-------------------')\n",
    "print(type(p2)) #period_range()返回一个PeriodIndex对象\n",
    "print('-------------------')\n",
    "arr12=pd.Series(np.random.randn(len(p2)),index=p2) #PeriodIndex作Series的index\n",
    "print(arr12)"
   ]
  },
  {
   "cell_type": "code",
   "execution_count": 95,
   "metadata": {},
   "outputs": [
    {
     "name": "stdout",
     "output_type": "stream",
     "text": [
      "2012    1.002181\n2013    0.135518\n2014    0.140470\n2015   -0.676658\n2016   -0.053161\nFreq: A-DEC, dtype: float64\n-------------------\n2012-12    1.002181\n2013-12    0.135518\n2014-12    0.140470\n2015-12   -0.676658\n2016-12   -0.053161\nFreq: M, dtype: float64\n-------------------\n2012-01    1.002181\n2013-01    0.135518\n2014-01    0.140470\n2015-01   -0.676658\n2016-01   -0.053161\nFreq: M, dtype: float64\n"
     ]
    }
   ],
   "source": [
    "'''asfreq():将Period和PeriodIndex对象转换成别的频率'''\n",
    "p3=pd.period_range('2012','2016',freq='A-DEC')\n",
    "arr13=pd.Series(np.random.randn(len(p4)),index=p4)\n",
    "print(arr13)\n",
    "print('-------------------')\n",
    "print(arr13.asfreq(freq='M',how='end'))\n",
    "print('-------------------')\n",
    "print(arr13.asfreq(freq='M',how='start'))"
   ]
  },
  {
   "cell_type": "code",
   "execution_count": 113,
   "metadata": {},
   "outputs": [
    {
     "name": "stdout",
     "output_type": "stream",
     "text": [
      "2012Q4\n2012-10-01\n2012-12-31\n-------------------\n2012-12-28\n2012-12-28 16:00\n"
     ]
    }
   ],
   "source": [
    "'''按季度计算的时期频率\n",
    "    Q-DEC表示财年末是12月'''\n",
    "p4=pd.Period('2012Q4',freq='Q-DEC')\n",
    "print(p4)\n",
    "print(p4.asfreq('D','start'))\n",
    "print(p4.asfreq('D','end'))\n",
    "print('-------------------')\n",
    "print(p4.asfreq('B','e')-1)\n",
    "arr14=(p4.asfreq('B','e')-1).asfreq('T','s')+16*60\n",
    "print(arr14) #'B'表示每个工作日,'T'表示每小时"
   ]
  },
  {
   "cell_type": "markdown",
   "metadata": {},
   "source": [
    "![](http://i2.muimg.com/567571/acf7efb509230edb.png)"
   ]
  },
  {
   "cell_type": "code",
   "execution_count": 120,
   "metadata": {},
   "outputs": [
    {
     "name": "stdout",
     "output_type": "stream",
     "text": [
      "2012-12-28 16:00:00\n2016-01-31    0.875257\n2016-02-29    1.369537\n2016-03-31   -1.053810\n2016-04-30   -2.034370\n2016-05-31    1.163928\nFreq: M, dtype: float64\n-------------------\n2016-01    0.875257\n2016-02    1.369537\n2016-03   -1.053810\n2016-04   -2.034370\n2016-05    1.163928\nFreq: M, dtype: float64\n"
     ]
    }
   ],
   "source": [
    "print(arr14.to_timestamp()) #Period对象转换为timestamp()对象\n",
    "dt16=pd.date_range('1/1/2016',periods=5,freq='M')\n",
    "arr15=pd.Series(np.random.randn(len(dt16)),index=dt16)\n",
    "print(arr15)\n",
    "print('-------------------')\n",
    "print(arr15.to_period()) #timestamp()对象转换为Period对象"
   ]
  },
  {
   "cell_type": "code",
   "execution_count": 129,
   "metadata": {},
   "outputs": [
    {
     "name": "stdout",
     "output_type": "stream",
     "text": [
      "2016-01-01   -1.565829\n2016-01-02    0.877697\n2016-01-03    0.923784\n2016-01-04    0.093173\n2016-01-05   -1.023707\n2016-01-06   -0.919700\n2016-01-07   -0.755121\n2016-01-08   -0.456426\n2016-01-09   -0.878182\n2016-01-10   -1.921095\n2016-01-11   -0.360172\n2016-01-12    0.344346\n2016-01-13    0.917259\n2016-01-14   -0.460699\n2016-01-15    2.014382\n2016-01-16   -0.659263\n2016-01-17    0.614471\n2016-01-18   -1.027684\n2016-01-19   -0.654974\n2016-01-20   -0.534946\nFreq: D, dtype: float64\n-------------------\n2016-01   -0.271634\nFreq: M, dtype: float64\n2016-01-31   -0.271634\nFreq: M, dtype: float64\n"
     ]
    }
   ],
   "source": [
    "'''pandas的resample():频率转换函数\n",
    "    重采样：将时间序列从一个频率转换到另一个频率\n",
    "    降采样：将高频率数据聚合到低频率。升采样：相反操作'''\n",
    "dt17=pd.date_range('1/1/2016',periods=20,freq='D')\n",
    "arr16=pd.Series(np.random.randn(len(dt17)),index=dt17)\n",
    "print(arr16)\n",
    "print('-------------------')\n",
    "print(arr16.resample('M',kind='period').mean())\n",
    "print(arr16.resample('M',kind='timestamp').mean())"
   ]
  },
  {
   "cell_type": "markdown",
   "metadata": {},
   "source": [
    "### resample()的参数\n",
    "![](http://i4.buimg.com/567571/6c3bc43dbb931ef9.png)\n",
    "![](http://i4.buimg.com/567571/9f7cbf3b38b1ab98.png)"
   ]
  },
  {
   "cell_type": "code",
   "execution_count": 138,
   "metadata": {},
   "outputs": [
    {
     "name": "stdout",
     "output_type": "stream",
     "text": [
      "2016-01-01 00:00:00    1.034974\n2016-01-01 00:01:00   -0.638117\n2016-01-01 00:02:00    0.038140\n2016-01-01 00:03:00    1.051006\n2016-01-01 00:04:00   -1.915460\n2016-01-01 00:05:00   -1.162160\n2016-01-01 00:06:00    1.044914\n2016-01-01 00:07:00   -0.213734\n2016-01-01 00:08:00    0.026180\n2016-01-01 00:09:00   -0.714306\nFreq: T, dtype: float64\n-------------------\n2016-01-01 00:00:00   -0.429457\n2016-01-01 00:05:00   -1.019105\nFreq: 5T, dtype: float64\n-------------------\n                         open      high      low     close\n2016-01-01 00:00:00  1.034974  1.051006 -1.91546 -1.915460\n2016-01-01 00:05:00 -1.162160  1.044914 -1.16216 -0.714306\n"
     ]
    }
   ],
   "source": [
    "dt18=pd.date_range('1/1/2016',periods=10,freq='T')\n",
    "arr17=pd.Series(np.random.randn(len(dt18)),index=dt18)\n",
    "print(arr17)\n",
    "print('-------------------')\n",
    "print(arr17.resample('5min',closed='left').sum()) #将数据聚合到5min内且求总和，左端闭合\n",
    "print('-------------------')\n",
    "#ohic计算数据的第一个值(open,开盘)、最后一个值(close,收盘)、最大值、最小值\n",
    "print(arr17.resample('5min').ohlc()) "
   ]
  },
  {
   "cell_type": "code",
   "execution_count": 144,
   "metadata": {},
   "outputs": [
    {
     "name": "stdout",
     "output_type": "stream",
     "text": [
      "2016-01-01     0\n2016-01-02     1\n2016-01-03     2\n2016-01-04     3\n2016-01-05     4\n2016-01-06     5\n2016-01-07     6\n2016-01-08     7\n2016-01-09     8\n2016-01-10     9\n2016-01-11    10\n2016-01-12    11\n2016-01-13    12\n2016-01-14    13\n2016-01-15    14\n2016-01-16    15\n2016-01-17    16\n2016-01-18    17\n2016-01-19    18\n2016-01-20    19\n2016-01-21    20\n2016-01-22    21\n2016-01-23    22\n2016-01-24    23\n2016-01-25    24\n2016-01-26    25\n2016-01-27    26\n2016-01-28    27\n2016-01-29    28\n2016-01-30    29\n              ..\n2016-03-11    70\n2016-03-12    71\n2016-03-13    72\n2016-03-14    73\n2016-03-15    74\n2016-03-16    75\n2016-03-17    76\n2016-03-18    77\n2016-03-19    78\n2016-03-20    79\n2016-03-21    80\n2016-03-22    81\n2016-03-23    82\n2016-03-24    83\n2016-03-25    84\n2016-03-26    85\n2016-03-27    86\n2016-03-28    87\n2016-03-29    88\n2016-03-30    89\n2016-03-31    90\n2016-04-01    91\n2016-04-02    92\n2016-04-03    93\n2016-04-04    94\n2016-04-05    95\n2016-04-06    96\n2016-04-07    97\n2016-04-08    98\n2016-04-09    99\nFreq: D, dtype: int32\n-------------------\n1    15\n2    45\n3    75\n4    95\ndtype: int32\n-------------------\n0    48.5\n1    49.5\n2    50.5\n3    51.5\n4    49.0\n5    50.0\n6    47.5\ndtype: float64\n"
     ]
    }
   ],
   "source": [
    "'''groupby进行降采样'''\n",
    "dt19=pd.date_range('1/1/2016',freq='D',periods=100)\n",
    "arr18=pd.Series(np.arange(len(dt19)),index=dt19)\n",
    "print(arr18)\n",
    "print('-------------------')\n",
    "print(arr18.groupby(lambda x:x.month).mean())\n",
    "print('-------------------')\n",
    "print(arr18.groupby(lambda x:x.weekday).mean())"
   ]
  },
  {
   "cell_type": "code",
   "execution_count": 161,
   "metadata": {},
   "outputs": [
    {
     "name": "stdout",
     "output_type": "stream",
     "text": [
      "                Ohio     Texas  New York  Colorado\n2016-01-06  0.612547 -1.584266  1.384193 -0.495415\n2016-01-13 -1.609444  0.577045  0.766304 -0.762596\n2016-01-20  1.183183  0.046819 -0.206218 -0.187462\n-------------------\n                Ohio     Texas  New York  Colorado\n2016-01-06  0.612547 -1.584266  1.384193 -0.495415\n2016-01-07  0.612547 -1.584266  1.384193 -0.495415\n2016-01-08  0.612547 -1.584266  1.384193 -0.495415\n2016-01-09  0.612547 -1.584266  1.384193 -0.495415\n2016-01-10       NaN       NaN       NaN       NaN\n2016-01-11       NaN       NaN       NaN       NaN\n2016-01-12       NaN       NaN       NaN       NaN\n2016-01-13 -1.609444  0.577045  0.766304 -0.762596\n2016-01-14 -1.609444  0.577045  0.766304 -0.762596\n2016-01-15 -1.609444  0.577045  0.766304 -0.762596\n2016-01-16 -1.609444  0.577045  0.766304 -0.762596\n2016-01-17       NaN       NaN       NaN       NaN\n2016-01-18       NaN       NaN       NaN       NaN\n2016-01-19       NaN       NaN       NaN       NaN\n2016-01-20  1.183183  0.046819 -0.206218 -0.187462\n"
     ]
    }
   ],
   "source": [
    "'''升采样和插值'''\n",
    "data3=pd.DataFrame(np.random.randn(3,4),index=pd.date_range('1/1/2016',freq='W-WED',periods=3),columns=['Ohio','Texas','New York','Colorado'])\n",
    "print(data3)\n",
    "print('-------------------')\n",
    "print(data3.resample('D').ffill(limit=3)) #前向填充3行数据"
   ]
  },
  {
   "cell_type": "code",
   "execution_count": null,
   "metadata": {},
   "outputs": [],
   "source": [
    ""
   ]
  }
 ],
 "metadata": {
  "kernelspec": {
   "display_name": "Python 2",
   "language": "python",
   "name": "python2"
  },
  "language_info": {
   "codemirror_mode": {
    "name": "ipython",
    "version": 2.0
   },
   "file_extension": ".py",
   "mimetype": "text/x-python",
   "name": "python",
   "nbconvert_exporter": "python",
   "pygments_lexer": "ipython2",
   "version": "2.7.6"
  }
 },
 "nbformat": 4,
 "nbformat_minor": 0
}