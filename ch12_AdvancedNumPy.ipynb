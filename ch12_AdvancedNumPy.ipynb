{
 "cells": [
  {
   "cell_type": "markdown",
   "metadata": {
    "collapsed": true
   },
   "source": [
    "# 第12章 NumPy的高级应用"
   ]
  },
  {
   "cell_type": "markdown",
   "metadata": {},
   "source": [
    "## ndarray对象的内部组成\n",
    "- 一个指向数组（一个系统内存块）的指针\n",
    "- dtype\n",
    "- shape，一个表示数组形状的tuple\n",
    "- 一个跨度tuple（stride）：其中的整数是指前进到当前维度下一个元素需要“跨过”的字节数"
   ]
  },
  {
   "cell_type": "code",
   "execution_count": 2,
   "metadata": {},
   "outputs": [
    {
     "data": {
      "text/plain": [
       "(160, 40, 8)"
      ]
     },
     "execution_count": 2,
     "metadata": {},
     "output_type": "execute_result"
    }
   ],
   "source": [
    "import numpy as np\n",
    "np.ones([3,4,5],dtype=np.float64).strides # 3*4*5的float64(8个字节)数组，其跨度为(160,40,8)"
   ]
  },
  {
   "cell_type": "markdown",
   "metadata": {},
   "source": [
    "## NumPy数据类型体系\n",
    "dtype中每个大类都有很多小类，比如float类型有float16,float32,float64等等\n",
    "\n",
    "![](http://opkojvmcy.bkt.clouddn.com/17-5-9/16644783-file_1494297850094_93db.png)"
   ]
  },
  {
   "cell_type": "code",
   "execution_count": 6,
   "metadata": {},
   "outputs": [
    {
     "name": "stdout",
     "output_type": "stream",
     "text": [
      "True\n------------------\nTrue\n"
     ]
    }
   ],
   "source": [
    "'''np.issubdtype()函数：判断是否属于该大类'''\n",
    "arr_u=np.ones(10,dtype=np.uint16)\n",
    "arr_f=np.ones(10,dtype=np.float32)\n",
    "print(np.issubdtype(arr_u.dtype,np.integer))\n",
    "print('------------------')\n",
    "print(np.issubdtype(arr_f.dtype,np.floating))"
   ]
  },
  {
   "cell_type": "code",
   "execution_count": 7,
   "metadata": {},
   "outputs": [
    {
     "data": {
      "text/plain": [
       "[numpy.float64,\n numpy.floating,\n numpy.inexact,\n numpy.number,\n numpy.generic,\n float,\n object]"
      ]
     },
     "execution_count": 7,
     "metadata": {},
     "output_type": "execute_result"
    }
   ],
   "source": [
    "'''dtype.mro()：查看其所有的父类'''\n",
    "np.float64.mro()"
   ]
  },
  {
   "cell_type": "code",
   "execution_count": 11,
   "metadata": {},
   "outputs": [
    {
     "name": "stdout",
     "output_type": "stream",
     "text": [
      "[[ 0  1  2  3]\n [ 4  5  6  7]\n [ 8  9 10 11]]\n[[ 0  1  2]\n [ 3  4  5]\n [ 6  7  8]\n [ 9 10 11]]\n"
     ]
    }
   ],
   "source": [
    "'''reshape()的参数形状的其中一维可以是-1'''\n",
    "arr1=np.arange(12).reshape(3,-1) \n",
    "arr2=np.arange(12).reshape(-1,3)\n",
    "print(arr1)\n",
    "print(arr2)"
   ]
  },
  {
   "cell_type": "code",
   "execution_count": 14,
   "metadata": {},
   "outputs": [
    {
     "name": "stdout",
     "output_type": "stream",
     "text": [
      "<class 'tuple'>\n[[ 0  1  2  3]\n [ 4  5  6  7]\n [ 8  9 10 11]]\n"
     ]
    }
   ],
   "source": [
    "arr3=np.ones((3,4))\n",
    "print(type(arr3.shape))\n",
    "'''数组的shape属性是一个tuple，因此它可以被传入reshape()'''\n",
    "print(arr2.reshape(arr3.shape))"
   ]
  },
  {
   "cell_type": "code",
   "execution_count": 17,
   "metadata": {},
   "outputs": [
    {
     "name": "stdout",
     "output_type": "stream",
     "text": [
      "[[ 0  1  2  3  4]\n [ 5  6  7  8  9]\n [10 11 12 13 14]]\n[ 0  1  2  3  4  5  6  7  8  9 10 11 12 13 14]\n[ 0  1  2  3  4  5  6  7  8  9 10 11 12 13 14]\n"
     ]
    }
   ],
   "source": [
    "'''扁平化(flattening)和散开(raveling)\n",
    "    将多维数组转换为一维数组的运算过程，与reshape()相反的运算过程'''\n",
    "arr4=np.arange(15).reshape((3,5))\n",
    "print(arr4)\n",
    "print(arr4.ravel()) #ravel不会产生源数据的副本\n",
    "print(arr4.flatten()) #flatten总是返回数据的副本"
   ]
  },
  {
   "cell_type": "markdown",
   "metadata": {},
   "source": [
    "## C顺序和Fortran顺序\n",
    "默认情况下，NumPy数组是按行优先顺序创建的，即在一个二维数组中，每行中的数据项是被存放在相邻内存位置上的，这种顺序称为C顺序。\n",
    "\n",
    "那么对于列优先顺序，每列中的数据项是被存放在相邻内存位置上的，也称为Fortran顺序\n",
    "\n",
    "![](http://opkojvmcy.bkt.clouddn.com/17-5-9/49157095-file_1494309824544_aa1d.png)"
   ]
  },
  {
   "cell_type": "code",
   "execution_count": 42,
   "metadata": {},
   "outputs": [
    {
     "name": "stdout",
     "output_type": "stream",
     "text": [
      "[[ 1  2  3]\n [ 4  5  6]\n [ 7  8  9]\n [10 11 12]]\n--------------\n[[ 1  2  3]\n [ 4  5  6]\n [ 7  8  9]\n [10 11 12]]\n--------------\n[[ 1  2  3  7  8  9]\n [ 4  5  6 10 11 12]]\n--------------\n[[ 1  2  3  7  8  9]\n [ 4  5  6 10 11 12]]\n"
     ]
    }
   ],
   "source": [
    "'''np.concatenate()：数组的合并'''\n",
    "arr5=np.array([[1,2,3],[4,5,6]])\n",
    "arr6=np.array([[7,8,9],[10,11,12]])\n",
    "'''2种相同的按行合并'''\n",
    "print(np.vstack((arr5,arr6)))\n",
    "print('--------------')\n",
    "print(np.concatenate((arr5,arr6),axis=0))\n",
    "print('--------------')\n",
    "'''2种相同的按列合并'''\n",
    "print(np.concatenate((arr5,arr6),axis=1))\n",
    "print('--------------')\n",
    "print(np.hstack((arr5,arr6)))"
   ]
  },
  {
   "cell_type": "code",
   "execution_count": 69,
   "metadata": {},
   "outputs": [
    {
     "name": "stdout",
     "output_type": "stream",
     "text": [
      "[[0 1]]\n--------------\n[[2 3]\n [4 5]]\n--------------\n[[6 7]\n [8 9]]\n"
     ]
    }
   ],
   "source": [
    "'''np.split()：数组的拆分'''\n",
    "arr7=np.arange(10).reshape(5,2)\n",
    "arr7\n",
    "arr7_1,arr7_2,arr7_3=np.split(arr7,[1,3]) #参数[1,3]是指将数组分成[:1]、[1:3]、[3:]这3个部分\n",
    "print(arr7_1)\n",
    "print('--------------')\n",
    "print(arr7_2)\n",
    "print('--------------')\n",
    "print(arr7_3)\n",
    "#split的便捷化函数：hsplit(),vsplit(),dsplit()分别按轴0，轴1，轴2进行拆分"
   ]
  },
  {
   "cell_type": "code",
   "execution_count": 56,
   "metadata": {},
   "outputs": [
    {
     "name": "stdout",
     "output_type": "stream",
     "text": [
      "[[ 0.          1.        ]\n [ 2.          3.        ]\n [ 4.          5.        ]\n [-0.62619418  1.6035784 ]\n [-0.15972855 -0.56991538]\n [-1.29111223 -0.86017288]]\n--------------\n[[ 0.          1.          0.        ]\n [ 2.          3.          1.        ]\n [ 4.          5.          2.        ]\n [-0.62619418  1.6035784   3.        ]\n [-0.15972855 -0.56991538  4.        ]\n [-1.29111223 -0.86017288  5.        ]]\n"
     ]
    }
   ],
   "source": [
    "'''堆叠辅助类：r_和c_'''\n",
    "arr8=np.arange(6)\n",
    "arr8_re=arr8.reshape(3,2)\n",
    "arr9=np.random.randn(3,2)\n",
    "print(np.r_[arr8_re,arr9])\n",
    "print('--------------')\n",
    "print(np.c_[np.r_[arr8_re,arr9],arr8])"
   ]
  },
  {
   "cell_type": "code",
   "execution_count": 75,
   "metadata": {},
   "outputs": [
    {
     "name": "stdout",
     "output_type": "stream",
     "text": [
      "[0 0 0 0 1 1 1 1 2 2 2 2]\n[0 1 1 2 2 2]\n[[ 0.88012001  0.4575871 ]\n [-1.13368118  0.17692973]]\n[[ 0.88012001  0.4575871 ]\n [-1.13368118  0.17692973]\n [-1.13368118  0.17692973]]\n[[ 0.88012001  0.88012001  0.4575871   0.4575871   0.4575871 ]\n [-1.13368118 -1.13368118  0.17692973  0.17692973  0.17692973]]\n"
     ]
    }
   ],
   "source": [
    "'''repeat()：元素的重复操作'''\n",
    "arr10=np.arange(3)\n",
    "#repeat()对数组各元素重复一定次数\n",
    "print(arr10.repeat(4))\n",
    "print(arr10.repeat([1,2,3]))\n",
    "\n",
    "arr11=np.random.randn(2,2)\n",
    "print(arr11)\n",
    "print(arr11.repeat([1,2],axis=0))\n",
    "print(arr11.repeat([2,3],axis=1))"
   ]
  },
  {
   "cell_type": "code",
   "execution_count": 80,
   "metadata": {},
   "outputs": [
    {
     "name": "stdout",
     "output_type": "stream",
     "text": [
      "[0 1 2 0 1 2 0 1 2]\n[[0 1 2 0 1 2]\n [0 1 2 0 1 2]\n [0 1 2 0 1 2]]\n"
     ]
    }
   ],
   "source": [
    "'''tile()：元素的堆叠操作'''\n",
    "print(np.tile(arr10,3))\n",
    "print(np.tile(arr10,[3,2])) #3行，每行堆叠2次"
   ]
  },
  {
   "cell_type": "code",
   "execution_count": 88,
   "metadata": {},
   "outputs": [
    {
     "name": "stdout",
     "output_type": "stream",
     "text": [
      "[700 100 200 600]\n[  0  42  42 300 400 500  42  42 800 900]\n[  0  41  42 300 400 500  43  40 800 900]\n-------------\n[[0 1 2 3]\n [4 5 6 7]]\n[[2 0 2 1]\n [6 4 6 5]]\n"
     ]
    }
   ],
   "source": [
    "'''take()和put()：花式索引'''\n",
    "arr12=np.arange(10)*100\n",
    "ind1=[7,1,2,6]\n",
    "print(arr12.take(ind))\n",
    "arr12.put(ind,42)\n",
    "print(arr12)\n",
    "arr12.put(ind,[40,41,42,43])\n",
    "print(arr12)\n",
    "print('-------------')\n",
    "arr13=np.arange(8).reshape(2,4)\n",
    "print(arr13)\n",
    "ind2=[2,0,2,1]\n",
    "print(arr13.take(ind2,axis=1))"
   ]
  },
  {
   "cell_type": "markdown",
   "metadata": {},
   "source": [
    "## 广播\n",
    "一维数组在轴0上的广播\n",
    "\n",
    "![](http://opkojvmcy.bkt.clouddn.com/17-5-9/99123301-file_1494320019173_e2fb.png)\n",
    "\n",
    "二维数组在轴1上的广播\n",
    "\n",
    "![](http://opkojvmcy.bkt.clouddn.com/17-5-9/67068264-file_1494320023356_fb08.png)\n",
    "\n",
    "三维数组在轴0上的广播\n",
    "\n",
    "![](http://opkojvmcy.bkt.clouddn.com/17-5-9/19394498-file_1494320027218_5b45.png)"
   ]
  },
  {
   "cell_type": "code",
   "execution_count": 103,
   "metadata": {},
   "outputs": [
    {
     "name": "stdout",
     "output_type": "stream",
     "text": [
      "[[ 0  1  2]\n [ 3  4  5]\n [ 6  7  8]\n [ 9 10 11]]\n------------\n[ 4.5  5.5  6.5]\n[  1.   4.   7.  10.]\n------------\n[[-1.  0.  1.]\n [-1.  0.  1.]\n [-1.  0.  1.]\n [-1.  0.  1.]]\n"
     ]
    }
   ],
   "source": [
    "arr14=np.arange(12).reshape(4,3)\n",
    "print(arr14)\n",
    "print('------------')\n",
    "print(arr14.mean(0))\n",
    "print(arr14.mean(1)) #mean(0)表示按列求均值，mean(1)表示按行求均值\n",
    "print('------------')\n",
    "print(arr14-arr14.mean(1).reshape(4,1))"
   ]
  },
  {
   "cell_type": "code",
   "execution_count": 113,
   "metadata": {},
   "outputs": [
    {
     "data": {
      "text/plain": [
       "(4, 1, 4)"
      ]
     },
     "execution_count": 113,
     "metadata": {},
     "output_type": "execute_result"
    }
   ],
   "source": [
    "'''二维数组转换为三维数组：通过np.newaxis属性和\"全\"切片来插入新轴'''\n",
    "arr15=np.ones((4,4))\n",
    "arr15_3d=arr15[:,np.newaxis,:]\n",
    "arr15_3d.shape"
   ]
  },
  {
   "cell_type": "code",
   "execution_count": 114,
   "metadata": {},
   "outputs": [
    {
     "data": {
      "text/plain": [
       "array([[ 0.,  0.,  0.,  0.],\n       [ 0.,  0.,  0.,  0.],\n       [ 0.,  0.,  0.,  0.],\n       [ 0.,  0.,  0.,  0.]])"
      ]
     },
     "execution_count": 114,
     "metadata": {},
     "output_type": "execute_result"
    }
   ],
   "source": [
    "col=np.array([0,0,0,0])\n",
    "arr15[:]=col[:,np.newaxis]\n",
    "arr15"
   ]
  },
  {
   "cell_type": "markdown",
   "metadata": {},
   "source": [
    "## ufunc高级应用\n",
    "以下的ufunc函数都是位于np.add、np.subtract、np.multiply等函数中\n",
    "\n",
    "![](http://opkojvmcy.bkt.clouddn.com/17-5-9/29589870-file_1494321821790_86d.png)"
   ]
  },
  {
   "cell_type": "code",
   "execution_count": 117,
   "metadata": {},
   "outputs": [
    {
     "name": "stdout",
     "output_type": "stream",
     "text": [
      "45\n45\n"
     ]
    }
   ],
   "source": [
    "'''np.add.reduce()：求和'''\n",
    "arr16=np.arange(10)\n",
    "print(np.add.reduce(arr16))\n",
    "print(arr16.sum())"
   ]
  },
  {
   "cell_type": "code",
   "execution_count": 118,
   "metadata": {},
   "outputs": [
    {
     "data": {
      "text/plain": [
       "array([[ 0,  1,  3,  6, 10],\n       [ 5, 11, 18, 26, 35],\n       [10, 21, 33, 46, 60]], dtype=int32)"
      ]
     },
     "execution_count": 118,
     "metadata": {},
     "output_type": "execute_result"
    }
   ],
   "source": [
    "'''np.add.accumulate()功能上和cumsum()很像'''\n",
    "arr17=np.arange(15).reshape(3,5)\n",
    "np.add.accumulate(arr17,axis=1)"
   ]
  },
  {
   "cell_type": "code",
   "execution_count": 137,
   "metadata": {},
   "outputs": [
    {
     "data": {
      "text/plain": [
       "array([  0, 210,  72], dtype=int32)"
      ]
     },
     "execution_count": 137,
     "metadata": {},
     "output_type": "execute_result"
    }
   ],
   "source": [
    "'''reduceat()用于计算\"局部约简\"，对数据各切片进行数据聚合  '''\n",
    "arr18=np.arange(10)\n",
    "np.multiply.reduceat(arr18,[0,5,8]) #在[0:5]、[5:8]、[8:]上元素执行乘积"
   ]
  },
  {
   "cell_type": "markdown",
   "metadata": {},
   "source": [
    "## 自定义ufunc\n",
    "- numpy.frompyfunc\n",
    "- numpy.vectorize\n",
    "\n",
    "这两种函数在计算每个元素的时候都要执行一次Python函数调用，速度上比MunPy自带的基于C的ufunc慢很多。"
   ]
  },
  {
   "cell_type": "code",
   "execution_count": 140,
   "metadata": {},
   "outputs": [
    {
     "data": {
      "text/plain": [
       "array([7, 9, 11, 13, 15], dtype=object)"
      ]
     },
     "execution_count": 140,
     "metadata": {},
     "output_type": "execute_result"
    }
   ],
   "source": [
    "def add_ufunc(x,y):\n",
    "    return x+y\n",
    "add_fpyf=np.frompyfunc(add_ufunc,2,1) #2表示输入2个参数，1表示输出1个参数\n",
    "add_fpyf([1,2,3,4,5],[6,7,8,9,10])"
   ]
  },
  {
   "cell_type": "code",
   "execution_count": 142,
   "metadata": {},
   "outputs": [
    {
     "data": {
      "text/plain": [
       "array([  7.,   9.,  11.,  13.,  15.])"
      ]
     },
     "execution_count": 142,
     "metadata": {},
     "output_type": "execute_result"
    }
   ],
   "source": [
    "add_vec=np.vectorize(add_ufunc,otypes=[np.float64])\n",
    "add_vec([1,2,3,4,5],[6,7,8,9,10])"
   ]
  },
  {
   "cell_type": "markdown",
   "metadata": {},
   "source": [
    "## 间接排序\n",
    "给定一个或多个键，可以得到一个由整数组成的索引数组\n",
    "- argsort()\n",
    "- lexsort():可以一次性对多个键数组执行间接排序\n",
    "\n",
    "通过kind参数设置排序算法\n",
    "\n",
    "![](http://opkojvmcy.bkt.clouddn.com/17-5-9/40246873-file_1494337467683_96ac.png)"
   ]
  },
  {
   "cell_type": "code",
   "execution_count": 144,
   "metadata": {},
   "outputs": [
    {
     "name": "stdout",
     "output_type": "stream",
     "text": [
      "[1 2 4 3 0]\n[0 1 2 3 5]\n"
     ]
    }
   ],
   "source": [
    "arr19=np.array([5,0,1,3,2])\n",
    "ind3=arr19.argsort()\n",
    "print(ind3) #索引值是数据在新顺序下的位置\n",
    "print(arr19[ind3])"
   ]
  },
  {
   "cell_type": "code",
   "execution_count": 149,
   "metadata": {},
   "outputs": [
    {
     "name": "stdout",
     "output_type": "stream",
     "text": [
      "('Arnold', 'Jane')\n('Arnold', 'Steve')\n('Jones', 'Bill')\n('Jones', 'Bob')\n('Walters', 'Barbara')\n"
     ]
    }
   ],
   "source": [
    "first_name=np.array(['Bob','Jane','Steve','Bill','Barbara'])\n",
    "last_name=np.array(['Jones','Arnold','Arnold','Jones','Walters'])\n",
    "sort_name=np.lexsort((first_name,last_name))\n",
    "for i in zip(last_name[sort_name],first_name[sort_name]):\n",
    "    print(i)"
   ]
  },
  {
   "cell_type": "code",
   "execution_count": 150,
   "metadata": {},
   "outputs": [
    {
     "data": {
      "text/plain": [
       "3"
      ]
     },
     "execution_count": 150,
     "metadata": {},
     "output_type": "execute_result"
    }
   ],
   "source": [
    "'''np.searchsorted()：在有序数组中执行二分查找'''\n",
    "arr20=np.array([0,1,7,12,15])\n",
    "arr20.searchsorted(9)"
   ]
  },
  {
   "cell_type": "code",
   "execution_count": 151,
   "metadata": {},
   "outputs": [
    {
     "data": {
      "text/plain": [
       "array([0, 2, 3, 3, 4], dtype=int64)"
      ]
     },
     "execution_count": 151,
     "metadata": {},
     "output_type": "execute_result"
    }
   ],
   "source": [
    "arr20.searchsorted([0,2,8,11,14])"
   ]
  },
  {
   "cell_type": "code",
   "execution_count": null,
   "metadata": {},
   "outputs": [],
   "source": [
    "'''NumPy的matrix类'''\n",
    "#x[1,:]选取1行\n",
    "#x[:,1]选取1列 "
   ]
  },
  {
   "cell_type": "markdown",
   "metadata": {},
   "source": [
    "## 性能建议\n",
    "- 尽量使用广播\n",
    "- 避免复制数据，尽量使用数组视图（即切片）\n",
    "- 利用ufunc及其各种方法\n",
    "- 将Python循环和条件逻辑转换为数组运算和布尔数组运算 "
   ]
  },
  {
   "cell_type": "markdown",
   "metadata": {},
   "source": [
    "## 连续内存的重要性\n",
    "数组的内存布局可以对计算速度造成极大的影响，运算过程中访问连续内存块（以C顺序存储的数组的行求和）一般是最快的\n",
    "\n",
    "默认情况下，NumPy数组是以C型连续的方式创建的"
   ]
  },
  {
   "cell_type": "code",
   "execution_count": 153,
   "metadata": {},
   "outputs": [
    {
     "data": {
      "text/plain": [
       "  C_CONTIGUOUS : True\n  F_CONTIGUOUS : False\n  OWNDATA : True\n  WRITEABLE : True\n  ALIGNED : True\n  UPDATEIFCOPY : False"
      ]
     },
     "execution_count": 153,
     "metadata": {},
     "output_type": "execute_result"
    }
   ],
   "source": [
    "arr_c=np.ones((5,5),order='c')\n",
    "arr_c.flags"
   ]
  },
  {
   "cell_type": "code",
   "execution_count": 154,
   "metadata": {},
   "outputs": [
    {
     "data": {
      "text/plain": [
       "  C_CONTIGUOUS : False\n  F_CONTIGUOUS : True\n  OWNDATA : True\n  WRITEABLE : True\n  ALIGNED : True\n  UPDATEIFCOPY : False"
      ]
     },
     "execution_count": 154,
     "metadata": {},
     "output_type": "execute_result"
    }
   ],
   "source": [
    "arr_f=np.ones((5,5),order='f')\n",
    "arr_f.flags"
   ]
  },
  {
   "cell_type": "code",
   "execution_count": null,
   "metadata": {},
   "outputs": [],
   "source": [
    ""
   ]
  }
 ],
 "metadata": {
  "kernelspec": {
   "display_name": "Python 2",
   "language": "python",
   "name": "python2"
  },
  "language_info": {
   "codemirror_mode": {
    "name": "ipython",
    "version": 2.0
   },
   "file_extension": ".py",
   "mimetype": "text/x-python",
   "name": "python",
   "nbconvert_exporter": "python",
   "pygments_lexer": "ipython2",
   "version": "2.7.6"
  }
 },
 "nbformat": 4,
 "nbformat_minor": 0
}