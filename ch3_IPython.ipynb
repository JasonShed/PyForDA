{
 "cells": [
  {
   "cell_type": "markdown",
   "metadata": {
    "collapsed": true
   },
   "source": [
    "## 第3章 IPython\n",
    "---\n",
    "- Tab键进行自动补全\n",
    "- 在变量前面/后面加？可以显示出该变量的相关信息\n",
    "\n",
    "> s='12345'\n",
    " \n",
    "> ?s或s?\n",
    "\n",
    "- 显示函数的Docstring\n",
    "\n",
    "> ?函数名 或 函数名?\n",
    "\n",
    "- 显示函数的代码\n",
    "\n",
    "> ??函数名 或 函数名??\n",
    "\n",
    "- ?搜索IPython命名空间，配以通配符*显示出与该通配表达式相匹配的名称\n",
    "\n",
    "![](http://i2.muimg.com/567571/8de1e665af476530.png)"
   ]
  },
  {
   "cell_type": "markdown",
   "metadata": {},
   "source": [
    "### 输入输出\n",
    "- 输入单个下划线和双下划线可以查看最近的2个输出结果\n",
    "- 输入的文本保存在名为_iX的变量中，输出文本保存在_X的变量中。（X是输入行的行号）"
   ]
  },
  {
   "cell_type": "markdown",
   "metadata": {},
   "source": [
    "### 快捷键\n",
    "- 箭头上/下方向键前向/后项搜索命令历史\n",
    "- ctrl+shift+v：从剪切板粘贴文本\n",
    "- ctrl+a：将光标移动至行首\n",
    "- ctrl+e：将光标移动至行尾\n",
    "- ctrl+k：删除从光标开始至行尾的文本\n",
    "- ctrl+u：清除当前行的所有文本\n",
    "- ctrl+l：清屏\n",
    "- ctrl+r：搜索命令历史每一条与输入相符的行。（先ctrl+r再输入搜索字符）"
   ]
  },
  {
   "cell_type": "markdown",
   "metadata": {},
   "source": [
    "### 魔术命令（magic command）\n",
    "- %timeit：检测任意python语句的执行时间\n",
    "```\n",
    "%timeit x=[i for i in range(5)]\n",
    "```\n",
    "- %prun，cProfile模块，%run -p：性能分析\n",
    "```\n",
    "python -m cProfile -s cumulative example.py\n",
    "```\n",
    "- 指定一个排序规则，返回结果查看cumtime列就是各个函数的总运行时间（包括该函数内部调用其它函数的时间）\n",
    "```\n",
    "%prun test_example()   #分析的是Python语句，不能是.py文件\n",
    "```\n",
    "- %hist：查看输入历史命令\n",
    "- %magic：显示所有魔术命令的详细文档\n",
    "\n",
    "- 粘贴剪切板中的一切文本，输入\n",
    "```\n",
    "%paste #只能粘贴一次\n",
    "%cpaste #能粘贴多次，使用ctrl+c终止 \n",
    "```\n",
    "- %debug：调试。输入u和d可在栈跟踪的各级别之间切换，输入n执行下一行\n",
    "- %run：运行脚本文件\n",
    "```\n",
    "%run xxx.py\n",
    "```\n",
    "- !cmd：在shell中执行cmd\n",
    "- %logstart：开始记录整个控制台会话（输入和输出命令）\n",
    "\n",
    "- %pwd：返回系统的当前工作目录\n",
    "- %pushd：将当前目录入栈，并转向目标目录directory\n",
    "```\n",
    "%pushd directory\n",
    "```\n",
    "- %popd：弹出栈顶目录，并转向该目录\n",
    "- %dirs：返回一个含有当前目录栈的列表"
   ]
  },
  {
   "cell_type": "markdown",
   "metadata": {},
   "source": [
    "#### 利用IPython提高代码开发效率\n",
    "1.当import some_lib（某个库）的时候，该库中的代码就会被执行，且其中所有变量、函数和引入项都会被保存在一个新建的some_lib模块命名空间中。\n",
    "假设我们我们执行某个文件test.py，其中import some_lib，在执行完\n",
    "```\n",
    "%run test.py\n",
    "```\n",
    "以后又对some_lib.py进行修改，下次再执行%run test.py以后仍然会使用老版的some_lib。这就是**Python内置的“一次加载”**模块属性。使用reload()函数解决这个问题。\n",
    "如果涉及多重依赖，使用**IPython的dreload()函数**，会重新加载some_lib及其所有的依赖项\n",
    "```\n",
    "import some_lib\n",
    "reload(some_lib)\n",
    "\n",
    "x=y=1\n",
    "print some_lib.get_answer(x,y)\n",
    "```"
   ]
  },
  {
   "cell_type": "code",
   "execution_count": null,
   "metadata": {},
   "outputs": [],
   "source": [
    ""
   ]
  }
 ],
 "metadata": {
  "kernelspec": {
   "display_name": "Python 2",
   "language": "python",
   "name": "python2"
  },
  "language_info": {
   "codemirror_mode": {
    "name": "ipython",
    "version": 2.0
   },
   "file_extension": ".py",
   "mimetype": "text/x-python",
   "name": "python",
   "nbconvert_exporter": "python",
   "pygments_lexer": "ipython2",
   "version": "2.7.6"
  }
 },
 "nbformat": 4,
 "nbformat_minor": 0
}