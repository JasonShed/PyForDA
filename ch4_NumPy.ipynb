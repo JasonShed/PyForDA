{
 "cells": [
  {
   "cell_type": "markdown",
   "metadata": {
    "collapsed": false
   },
   "source": [
    "## 第4章 NumPy基础\n",
    "---\n",
    "#### ndarray\n",
    "- 具有矢量算数运算和复杂广播能力的快速且节省空间的N维数组对象\n",
    "- 每个ndarray都有2个属性：dtype（指明数组中元素的数据类型）和shape（表示各维度大小的tuple）"
   ]
  },
  {
   "cell_type": "code",
   "execution_count": 1,
   "metadata": {},
   "outputs": [
    {
     "name": "stdout",
     "output_type": "stream",
     "text": [
      "[  1.    2.5   7.   11.    0.    1. ]\n----------\nfloat32\n----------\n(6,)\n"
     ]
    }
   ],
   "source": [
    "import numpy as np\n",
    "#创建ndarray\n",
    "data1=[1,2.5,7,11,0,1]\n",
    "arr1=np.array(data1,dtype=np.float32)\n",
    "\n",
    "print(arr1)\n",
    "print('----------')\n",
    "print(arr1.dtype)\n",
    "print('----------')\n",
    "print(arr1.shape)"
   ]
  },
  {
   "cell_type": "code",
   "execution_count": 2,
   "metadata": {},
   "outputs": [
    {
     "name": "stdout",
     "output_type": "stream",
     "text": [
      "int32\n----------\nfloat64\n"
     ]
    }
   ],
   "source": [
    "''' astype()显式转换dtype\n",
    "    astype()会创建一个新ndarray(原数组的拷贝)，即使新数组的dtype和原数组的dtype相同'''\n",
    "arr2=np.arange(5)\n",
    "arr2_c=arr2.astype(np.float64)\n",
    "print(arr2.dtype)\n",
    "print('----------')\n",
    "print(arr2_c.dtype)"
   ]
  },
  {
   "cell_type": "code",
   "execution_count": 3,
   "metadata": {},
   "outputs": [
    {
     "name": "stdout",
     "output_type": "stream",
     "text": [
      "[[ 0.  0.  0.]\n [ 0.  0.  0.]\n [ 0.  0.  0.]]\n----------\n[[ 1.  1.  1.]\n [ 1.  1.  1.]\n [ 1.  1.  1.]]\n"
     ]
    },
    {
     "data": {
      "text/plain": [
       "array([[ 1.,  1.,  1.],\n       [ 1.,  1.,  1.],\n       [ 1.,  1.,  1.]])"
      ]
     },
     "execution_count": 3,
     "metadata": {},
     "output_type": "execute_result"
    }
   ],
   "source": [
    "print(np.zeros((3,3)))#注意有括号\n",
    "print('----------')\n",
    "print(np.ones((3,3)))\n",
    "np.empty((3,3)) #创建新数组，只分配内存空间但不填充任何值\n",
    "#np.ones_like()是以另一个ndarray为参数，而不是输入一个shape"
   ]
  },
  {
   "cell_type": "code",
   "execution_count": 4,
   "metadata": {},
   "outputs": [
    {
     "name": "stdout",
     "output_type": "stream",
     "text": [
      "[0 1 2 3 4 5 6 7 8 9]\n----------\n<class 'numpy.ndarray'>\n"
     ]
    }
   ],
   "source": [
    "arr3=np.arange(10) #内置函数range()的ndarray版\n",
    "print(arr3)\n",
    "print('----------')\n",
    "print(type(arr3))"
   ]
  },
  {
   "cell_type": "code",
   "execution_count": 5,
   "metadata": {},
   "outputs": [
    {
     "name": "stdout",
     "output_type": "stream",
     "text": [
      "[[ 1.  0.  0.]\n [ 0.  1.  0.]\n [ 0.  0.  1.]]\n----------\n[[ 1.  0.  0.]\n [ 0.  1.  0.]\n [ 0.  0.  1.]]\n"
     ]
    }
   ],
   "source": [
    "#创建单位矩阵\n",
    "print(np.eye(3))\n",
    "print('----------')\n",
    "print(np.identity(3))"
   ]
  },
  {
   "cell_type": "code",
   "execution_count": 6,
   "metadata": {},
   "outputs": [
    {
     "name": "stdout",
     "output_type": "stream",
     "text": [
      "[0 1 2 3 4 5 6 7 8 9]\n----------\n[ 0  3  6  9 12 15 18 21 24 27]\n"
     ]
    }
   ],
   "source": [
    "'''矢量化（数组与标量之间的运算）：不用编写循环即可对数据执行批量运算'''\n",
    "arr4=np.arange(10)\n",
    "print(arr4)\n",
    "print('----------')\n",
    "print(arr4*3)"
   ]
  },
  {
   "cell_type": "code",
   "execution_count": 7,
   "metadata": {},
   "outputs": [
    {
     "name": "stdout",
     "output_type": "stream",
     "text": [
      "[0 1 2 3 4 5 6 7 8 9]\n----------\n[0 1 0 0 0 0 6 7 8 9]\n"
     ]
    }
   ],
   "source": [
    "'''广播：不同大小ndarray之间的运算'''\n",
    "arr5=np.arange(10)\n",
    "print(arr5)\n",
    "print('----------')\n",
    "arr5[2:6]=0     #ndarray切片是原始数组的视图，所以说任何修改会直接反映到源数组上，如果想得到切片的副本，用arr5[2:6].copy()\n",
    "print(arr5)"
   ]
  },
  {
   "cell_type": "code",
   "execution_count": 54,
   "metadata": {},
   "outputs": [
    {
     "name": "stdout",
     "output_type": "stream",
     "text": [
      "[[ 1.14077627  0.08700035]\n [-1.28419757 -0.06709453]\n [ 0.09788866  0.07834158]]\n"
     ]
    }
   ],
   "source": [
    "#randn()生成一些正态分布的随机数据\n",
    "data2=np.random.randn(3,2)\n",
    "print(data2)"
   ]
  },
  {
   "cell_type": "code",
   "execution_count": 12,
   "metadata": {},
   "outputs": [
    {
     "name": "stdout",
     "output_type": "stream",
     "text": [
      "[ True False False  True False False  True]\n----------\n[False  True  True False  True  True False]\n----------\n[False False  True False  True  True False]\n"
     ]
    }
   ],
   "source": [
    "'''布尔型ndarray'''\n",
    "names1=np.array(['Bob','Joe','Will','Bob','Will','Sed','Bob'])\n",
    "print(names1 == 'Bob')\n",
    "print('----------')\n",
    "print(~(names1 == 'Bob'))\n",
    "print('----------')\n",
    "print((names1 == 'Will') | (names1 == 'Sed'))  #关键字and和or在布尔型ndarray中无效"
   ]
  },
  {
   "cell_type": "code",
   "execution_count": 9,
   "metadata": {},
   "outputs": [
    {
     "name": "stdout",
     "output_type": "stream",
     "text": [
      "True\n----------\nFalse\n"
     ]
    }
   ],
   "source": [
    "#any测试数组中是否存在1个或多个True，all测试数组中所有值是否都是True.\n",
    "#这2个方法也能用于非布尔型数组，所有非0的元素都会被当做True\n",
    "bools=np.array([False,False,True,False])\n",
    "print(bools.any())\n",
    "print('----------')\n",
    "print(bools.all())"
   ]
  },
  {
   "cell_type": "code",
   "execution_count": 14,
   "metadata": {},
   "outputs": [
    {
     "name": "stdout",
     "output_type": "stream",
     "text": [
      "[[ 0.27646875  0.19453286  1.0226491   0.68275397 -0.95233933]\n [ 1.34290127  0.08727183 -0.15667288 -1.06698594 -2.95866188]\n [-1.18642548  1.26981638  0.07852258 -0.46909895  1.29365512]\n [-0.21055044  1.29140558  1.09110666  0.73107916 -0.01826704]\n [ 1.17286737  0.08910958 -0.07739427 -0.96939697 -1.71949696]\n [ 0.27138749  0.1055644   1.5484579   1.65927117  0.37831255]\n [-1.59126297  1.02637748 -1.49882424 -2.56182094  0.52617018]]\n----------\n[[ 0.27646875  0.19453286  1.0226491 ]\n [-0.21055044  1.29140558  1.09110666]\n [-1.59126297  1.02637748 -1.49882424]]\n----------\n[[ 0.27646875  0.19453286  1.0226491   0.68275397 -0.95233933]\n [ 5.          5.          5.          5.          5.        ]\n [ 5.          5.          5.          5.          5.        ]\n [-0.21055044  1.29140558  1.09110666  0.73107916 -0.01826704]\n [ 5.          5.          5.          5.          5.        ]\n [ 5.          5.          5.          5.          5.        ]\n [-1.59126297  1.02637748 -1.49882424 -2.56182094  0.52617018]]\n"
     ]
    }
   ],
   "source": [
    "'''布尔型数组的应用'''\n",
    "#1.结合切片\n",
    "data3=np.random.randn(7,5)\n",
    "print(data3)\n",
    "print('----------')\n",
    "print(data3[names1 == 'Bob',:3])\n",
    "print('----------')\n",
    "#2.广播\n",
    "data3[names1 != 'Bob']=5\n",
    "print(data3)"
   ]
  },
  {
   "cell_type": "code",
   "execution_count": 15,
   "metadata": {},
   "outputs": [
    {
     "name": "stdout",
     "output_type": "stream",
     "text": [
      "[[ 0.  0.  0.  0.]\n [ 1.  1.  1.  1.]\n [ 2.  2.  2.  2.]\n [ 3.  3.  3.  3.]\n [ 4.  4.  4.  4.]\n [ 5.  5.  5.  5.]\n [ 6.  6.  6.  6.]]\n----------\n[[ 4.  4.  4.  4.]\n [ 0.  0.  0.  0.]\n [ 5.  5.  5.  5.]\n [ 2.  2.  2.  2.]]\n----------\n[[ 6.  6.  6.  6.]\n [ 4.  4.  4.  4.]\n [ 2.  2.  2.  2.]]\n"
     ]
    }
   ],
   "source": [
    "'''花式索引：将数据复制到新数组中'''\n",
    "#特定的顺序选取行子集\n",
    "arr6=np.empty((7,4))\n",
    "for i in range(7):\n",
    "    arr6[i]=i\n",
    "print(arr6)\n",
    "print('----------')\n",
    "print(arr6[[4,0,5,2]])#注意双括号\n",
    "print('----------')\n",
    "print(arr6[[-1,-3,-5]])"
   ]
  },
  {
   "cell_type": "code",
   "execution_count": 16,
   "metadata": {},
   "outputs": [
    {
     "name": "stdout",
     "output_type": "stream",
     "text": [
      "[[ 0  1  2  3]\n [ 4  5  6  7]\n [ 8  9 10 11]\n [12 13 14 15]\n [16 17 18 19]\n [20 21 22 23]\n [24 25 26 27]\n [28 29 30 31]]\n----------\n[ 4  8 12 16]\n----------\n[[ 4  7  5  6]\n [20 23 21 22]\n [28 31 29 30]\n [ 8 11  9 10]]\n"
     ]
    }
   ],
   "source": [
    "#reshape(x,y)生成x行y列的ndarray\n",
    "arr7=np.arange(32).reshape(8,4)\n",
    "print(arr7)\n",
    "print('----------')\n",
    "#一次传入多个索引数组\n",
    "print(arr7[[1,2,3,4],[0,0,0,0]])  #对应(1,0),(2,0),(3,0),(4,0)位置的元素\n",
    "print('----------')\n",
    "#np.ix_()\n",
    "print(arr7[np.ix_([1,5,7,2],[0,3,1,2])]) #将2个数组转换为一个用户选取方形区域的索引器，将第1行的第0,3,1,2个元素存入数组"
   ]
  },
  {
   "cell_type": "code",
   "execution_count": 17,
   "metadata": {},
   "outputs": [
    {
     "name": "stdout",
     "output_type": "stream",
     "text": [
      "[[ 0  1  2  3  4  5]\n [ 6  7  8  9 10 11]]\n----------\n[[ 0  6]\n [ 1  7]\n [ 2  8]\n [ 3  9]\n [ 4 10]\n [ 5 11]]\n----------\n[[ 55 145]\n [145 451]]\n"
     ]
    }
   ],
   "source": [
    "'''数组装置和轴对换'''\n",
    "#arr.T和np.dot()\n",
    "arr8=np.arange(12).reshape(2,6)\n",
    "print(arr8)\n",
    "print('----------')\n",
    "print(arr8.T)\n",
    "print('----------')\n",
    "print(np.dot(arr8,arr8.T))  #高维数组转置arr9.transpose()和arr9.swapaxes()"
   ]
  },
  {
   "cell_type": "code",
   "execution_count": 19,
   "metadata": {},
   "outputs": [
    {
     "name": "stdout",
     "output_type": "stream",
     "text": [
      "[[-0.90769788  0.40719696 -0.07985651  0.48737663]\n [-1.10989143  0.90572395  0.67298364 -0.01750161]\n [ 1.77106692 -1.07944291 -0.93414387  0.62162372]\n [ 0.03863436 -0.88743234  0.49344329  1.29125518]]\n----------\n[[-0.  1. -0.  1.]\n [-1.  1.  1. -0.]\n [ 2. -1. -0.  1.]\n [ 1. -0.  1.  2.]]\n----------\n[[-1.  0. -1.  0.]\n [-2.  0.  0. -1.]\n [ 1. -2. -1.  0.]\n [ 0. -1.  0.  1.]]\n----------\n[[-1.  0. -0.  0.]\n [-1.  1.  1. -0.]\n [ 2. -1. -1.  1.]\n [ 0. -1.  0.  1.]]\n----------\n(array([[-0.90769788,  0.40719696, -0.07985651,  0.48737663],\n       [-0.10989143,  0.90572395,  0.67298364, -0.01750161],\n       [ 0.77106692, -0.07944291, -0.93414387,  0.62162372],\n       [ 0.03863436, -0.88743234,  0.49344329,  0.29125518]]), array([[-0.,  0., -0.,  0.],\n       [-1.,  0.,  0., -0.],\n       [ 1., -1., -0.,  0.],\n       [ 0., -0.,  0.,  1.]]))\n----------\n[ 1  4  9 16]\n"
     ]
    }
   ],
   "source": [
    "'''通用函数ufunc'''\n",
    "#一元ufunc\n",
    "arr9=np.random.randn(16).reshape(4,4)\n",
    "print(arr9)\n",
    "print('----------')\n",
    "print(np.ceil(arr9)) #取大于等于该值的最小整数\n",
    "print('----------')\n",
    "print(np.floor(arr9)) #取小于等于该值的最小整数\n",
    "print('----------')\n",
    "print(np.rint(arr9)) #四舍五入到最接近的整数\n",
    "print('----------')\n",
    "print(np.modf(arr9)) #将数组的小数部分和整数部分以2个独立数组的形式返回\n",
    "print('----------')\n",
    "#二元ufunc\n",
    "arr10=np.array([1,2,3,4])\n",
    "arr11=np.array([2,2,2,2])\n",
    "print(np.power(arr10,arr11)) #二个数组的规格要相等，对应的元素计算A^B"
   ]
  },
  {
   "cell_type": "code",
   "execution_count": 20,
   "metadata": {},
   "outputs": [
    {
     "name": "stdout",
     "output_type": "stream",
     "text": [
      "[-5 -4 -3 -2 -1  0  1  2  3  4]\n----------\n[[ 7.07106781  6.40312424  5.83095189  5.38516481  5.09901951  5.\n   5.09901951  5.38516481  5.83095189  6.40312424]\n [ 6.40312424  5.65685425  5.          4.47213595  4.12310563  4.\n   4.12310563  4.47213595  5.          5.65685425]\n [ 5.83095189  5.          4.24264069  3.60555128  3.16227766  3.\n   3.16227766  3.60555128  4.24264069  5.        ]\n [ 5.38516481  4.47213595  3.60555128  2.82842712  2.23606798  2.\n   2.23606798  2.82842712  3.60555128  4.47213595]\n [ 5.09901951  4.12310563  3.16227766  2.23606798  1.41421356  1.\n   1.41421356  2.23606798  3.16227766  4.12310563]\n [ 5.          4.          3.          2.          1.          0.          1.\n   2.          3.          4.        ]\n [ 5.09901951  4.12310563  3.16227766  2.23606798  1.41421356  1.\n   1.41421356  2.23606798  3.16227766  4.12310563]\n [ 5.38516481  4.47213595  3.60555128  2.82842712  2.23606798  2.\n   2.23606798  2.82842712  3.60555128  4.47213595]\n [ 5.83095189  5.          4.24264069  3.60555128  3.16227766  3.\n   3.16227766  3.60555128  4.24264069  5.        ]\n [ 6.40312424  5.65685425  5.          4.47213595  4.12310563  4.\n   4.12310563  4.47213595  5.          5.65685425]]\n"
     ]
    }
   ],
   "source": [
    "'''meshgrid():接受2个1维数组，产生2个二维数组。当计算sqrt(x^2+y^2)时很有效'''\n",
    "points=np.arange(-5,5,1)\n",
    "print(points)\n",
    "print('----------')\n",
    "xs,ys=np.meshgrid(points,points)\n",
    "result1=np.sqrt(xs**2+ys**2)\n",
    "print(result1)"
   ]
  },
  {
   "cell_type": "code",
   "execution_count": 21,
   "metadata": {},
   "outputs": [
    {
     "name": "stdout",
     "output_type": "stream",
     "text": [
      "[1.1000000000000001, 2.2000000000000002, 1.3, 1.3999999999999999, 2.5]\n----------\n[ 1.1  2.2  1.3  1.4  2.5]\n"
     ]
    }
   ],
   "source": [
    "'''np.where()函数是三元表达式x if condition else y的矢量化版本'''\n",
    "xarr=np.array([1.1,1.2,1.3,1.4,1.5])\n",
    "yarr=np.array([2.1,2.2,2.3,2.4,2.5])\n",
    "cond=np.array([True,False,True,True,False])\n",
    "result2=[(x if c else y) for x,y,c in zip(xarr,yarr,cond)]\n",
    "print(result2)\n",
    "print('----------')\n",
    "result3=np.where(cond,xarr,yarr)\n",
    "print(result3)"
   ]
  },
  {
   "cell_type": "code",
   "execution_count": 22,
   "metadata": {},
   "outputs": [
    {
     "name": "stdout",
     "output_type": "stream",
     "text": [
      "[[0 1 2]\n [3 4 5]\n [6 7 8]]\n----------\n36\n----------\n4.0\n----------\n0\n----------\n8\n----------\n0\n----------\n8\n----------\n2.58198889747\n----------\n6.66666666667\n----------\n[ 0  1  3  6 10 15 21 28 36]\n----------\n[0 0 0 0 0 0 0 0 0]\n"
     ]
    }
   ],
   "source": [
    "'''基本数组的统计方法'''\n",
    "arr12=np.arange(9).reshape(3,3)\n",
    "print(arr12)\n",
    "print('----------')\n",
    "print(arr12.sum())\n",
    "print('----------')\n",
    "print(arr12.mean())\n",
    "print('----------')\n",
    "print(arr12.min())\n",
    "print('----------')\n",
    "print(arr12.max())\n",
    "print('----------')\n",
    "print(arr12.argmin()) #最小元素的索引\n",
    "print('----------')\n",
    "print(arr12.argmax()) #最大元素的索引\n",
    "print('----------')\n",
    "print(arr12.std()) #标准差\n",
    "print('----------')\n",
    "print(arr12.var()) #方差\n",
    "print('----------')\n",
    "print(arr12.cumsum()) #所有元素的累计和\n",
    "print('----------')\n",
    "print(arr12.cumprod()) #所有元素的累计积"
   ]
  },
  {
   "cell_type": "markdown",
   "metadata": {},
   "source": [
    ""
   ]
  },
  {
   "cell_type": "code",
   "execution_count": 23,
   "metadata": {},
   "outputs": [
    {
     "name": "stdout",
     "output_type": "stream",
     "text": [
      "['Bob' 'Joe' 'Sed' 'Will']\n['Bob' 'Will']\n['Bob' 'Joe' 'John' 'Lily' 'Sed' 'Will']\n[ True False  True  True  True False  True]\n['Joe' 'Sed']\n['Joe' 'John' 'Lily' 'Sed']\n"
     ]
    }
   ],
   "source": [
    "'''数组的集合运算'''\n",
    "names2=np.array(['Bob','Joe','Will','Bob','Will','Sed','Bob'])\n",
    "names3=np.array(['Bob','Lily','Will','John'])\n",
    "print(np.unique(names2)) #计算数组中的唯一值\n",
    "print(np.intersect1d(names2,names3)) #计算2个数组的公共元素\n",
    "print(np.union1d(names2,names3)) #计算2个数组的并集\n",
    "print(np.in1d(names2,names3)) #计算第一个数组的元素是否存在于第二个数组中，得到一个布尔型数组\n",
    "print(np.setdiff1d(names2,names3)) #计算集合的差\n",
    "print(np.setxor1d(names2,names3)) #计算对称差，即取‘存在于一个数组中但不同时存在于2个数组中’的元素"
   ]
  },
  {
   "cell_type": "code",
   "execution_count": 30,
   "metadata": {},
   "outputs": [],
   "source": [
    "'''数组文件的输入输出'''\n",
    "arr13=np.arange(12).reshape(3,4)\n",
    "np.save('D://test.npy',arr13) #将ndarray以未压缩的原始二进制格式保存在扩展名为.npy的文件中\n",
    "np.load('D://test.npy') #读取\n",
    "\n",
    "np.savez('D://array_group.npy',one=arr13,two=arr12) #savez()将多个ndarray保存到一个压缩文件中，通过关键字参数的形式区分\n",
    "file=np.load('D://array_group.npy')\n",
    "print(file['a']) #根据关键字取出数组"
   ]
  },
  {
   "cell_type": "code",
   "execution_count": null,
   "metadata": {},
   "outputs": [],
   "source": [
    "#对于含有分隔符的文件，如csv文件中数据之间用'，'分隔\n",
    "np.loadtxt('XXX.txt',delimiter=',')\n",
    "np.savetxt('xxx.txt')"
   ]
  },
  {
   "cell_type": "code",
   "execution_count": 23,
   "metadata": {},
   "outputs": [
    {
     "name": "stdout",
     "output_type": "stream",
     "text": [
      "-2.0\n----------\n(array([-0.37228132,  5.37228132]), array([[-0.82456484, -0.41597356],\n       [ 0.56576746, -0.90937671]]))\n----------\n(array([[-0.40455358, -0.9145143 ],\n       [-0.9145143 ,  0.40455358]]), array([ 5.4649857 ,  0.36596619]), array([[-0.57604844, -0.81741556],\n       [ 0.81741556, -0.57604844]]))\n"
     ]
    }
   ],
   "source": [
    "'''线性代数\n",
    "    numpy.linalg函数'''\n",
    "arr14=np.array([1,2,3,4]).reshape(2,2)\n",
    "print(np.linalg.det(arr14)) #求行列式\n",
    "print('----------')\n",
    "print(np.linalg.eig(arr14)) #求奇异值\n",
    "print('----------')\n",
    "print(np.linalg.svd(arr14)) #求SVD"
   ]
  },
  {
   "cell_type": "code",
   "execution_count": 24,
   "metadata": {},
   "outputs": [
    {
     "name": "stdout",
     "output_type": "stream",
     "text": [
      "-9\n----------\n38\n----------\n109\n----------\nTrue\n"
     ]
    }
   ],
   "source": [
    "'''案例：随机漫步'''\n",
    "nsteps=1000\n",
    "draws=np.random.randint(0,2,nsteps) #取值0和1\n",
    "steps=np.where(draws>0,1,-1)\n",
    "walk=steps.cumsum()\n",
    "print(walk.min())\n",
    "print('----------')\n",
    "print(walk.max())\n",
    "print('----------')\n",
    "print((np.abs(walk)>=10).argmax())  #计算第一个10或者-10的索引\n",
    "print('----------')\n",
    "print((np.abs(walk)>=10).any())"
   ]
  },
  {
   "cell_type": "code",
   "execution_count": null,
   "metadata": {},
   "outputs": [],
   "source": [
    ""
   ]
  }
 ],
 "metadata": {
  "kernelspec": {
   "display_name": "Python 2",
   "language": "python",
   "name": "python2"
  },
  "language_info": {
   "codemirror_mode": {
    "name": "ipython",
    "version": 2.0
   },
   "file_extension": ".py",
   "mimetype": "text/x-python",
   "name": "python",
   "nbconvert_exporter": "python",
   "pygments_lexer": "ipython2",
   "version": "2.7.6"
  }
 },
 "nbformat": 4,
 "nbformat_minor": 0
}