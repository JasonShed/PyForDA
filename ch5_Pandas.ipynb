{
 "cells": [
  {
   "cell_type": "markdown",
   "metadata": {
    "collapsed": true
   },
   "source": [
    "## 第5章 pandas入门\n",
    "pandas是基于NumPy构建的，让以NumPy为中心的应用变得更加简单\n",
    "---\n",
    "- 具备按轴自动或显式数据对齐功能的数据结构\n",
    "- 集成时间序列功能\n",
    "- 灵活处理缺失数据\n",
    "- 2个主要数据结构：Series和DataFrame"
   ]
  },
  {
   "cell_type": "code",
   "execution_count": 47,
   "metadata": {},
   "outputs": [
    {
     "name": "stdout",
     "output_type": "stream",
     "text": [
      "1    1\n2    2\n3    3\n4    4\n5    5\ndtype: int64\n----------\n3    3\n4    4\ndtype: int64\n----------\n[1 2 3 4 5]\n----------\nInt64Index([1, 2, 3, 4, 5], dtype='int64')\n"
     ]
    }
   ],
   "source": [
    "'''Series\n",
    "    由一组数据（各种NumPy数据类型）和一组与之相关的索引组成。'''\n",
    "import numpy as np\n",
    "import pandas as pd\n",
    "\n",
    "arr1=pd.Series([1,2,3,4,5])  #自动创建0到N-1的整数型索引。也可以指定索引arr1=pd.Series([1,2,3,4,5],index=['a','b','c','d','e'])\n",
    "arr1.index=[1,2,3,4,5] #修改索引\n",
    "print(arr1)\n",
    "print('----------')\n",
    "print(arr1[[3,4]]) #通过多个索引取值\n",
    "print('----------')\n",
    "print(arr1.values)\n",
    "print('----------')\n",
    "print(arr1.index)"
   ]
  },
  {
   "cell_type": "code",
   "execution_count": 48,
   "metadata": {},
   "outputs": [
    {
     "name": "stdout",
     "output_type": "stream",
     "text": [
      "California        NaN\nOhio          35000.0\nOregon        16000.0\nTexas         71000.0\ndtype: float64\n----------\nCalifornia     True\nOhio          False\nOregon        False\nTexas         False\ndtype: bool\n----------\nCalifornia    False\nOhio           True\nOregon         True\nTexas          True\ndtype: bool\n"
     ]
    }
   ],
   "source": [
    "#Series可以看成是一个定长的有序字典\n",
    "data1={'Ohio':35000,'Texas':71000,'Oregon':16000,'Utah':5000}\n",
    "index1=['California','Ohio','Oregon','Texas']\n",
    "arr2=pd.Series(data1,index1)\n",
    "print(arr2)\n",
    "print('----------')\n",
    "#isNull()和notnull()检测缺失数据\n",
    "print(pd.isnull(arr2))\n",
    "print('----------')\n",
    "print(arr2.notnull())"
   ]
  },
  {
   "cell_type": "code",
   "execution_count": 50,
   "metadata": {},
   "outputs": [
    {
     "name": "stdout",
     "output_type": "stream",
     "text": [
      "    state  year  pop\n1    Ohio  2000  1.5\n2    Ohio  2001  1.7\n3    Ohio  2002  3.6\n4  Nevada  2001  2.4\n5  Nevada  2002  2.9\n----------\n1    2000\n2    2001\n3    2002\n4    2001\n5    2002\nName: year, dtype: int64\n----------\n1      Ohio\n2      Ohio\n3      Ohio\n4    Nevada\n5    Nevada\nName: state, dtype: object\n----------\nstate    Ohio\nyear     2002\npop       3.6\nName: 3, dtype: object\n"
     ]
    }
   ],
   "source": [
    "'''DataFrame\n",
    "    表格型数据结构，含有一组有序的列，每列可以是不同的值类型'''\n",
    "data2={'state':['Ohio','Ohio','Ohio','Nevada','Nevada'],\n",
    "       'year':[2000,2001,2002,2001,2002],\n",
    "       'pop':[1.5,1.7,3.6,2.4,2.9]}\n",
    "arr3=pd.DataFrame(data2,index=[1,2,3,4,5],columns=['state','year','pop','debt'])\n",
    "arr3['debt']=np.arange(5) #为某列赋值\n",
    "del arr3['debt'] #删除某列\n",
    "print(arr3)\n",
    "print('----------')\n",
    "#2种方式根据column Name选取数据\n",
    "print(arr3.year)\n",
    "print('----------')\n",
    "print(arr3['state'])\n",
    "print('----------')\n",
    "#ix根据行选取数据\n",
    "print(arr3.ix[3])"
   ]
  },
  {
   "cell_type": "code",
   "execution_count": 51,
   "metadata": {},
   "outputs": [
    {
     "name": "stdout",
     "output_type": "stream",
     "text": [
      "      Nevada  Ocean  Ohio\n2000     2.0    NaN   NaN\n2001    24.0    NaN   2.1\n2002    26.0    NaN   2.2\n2004     NaN   50.0   NaN\n2007     NaN   60.0   NaN\n----------\n        2000  2001  2002  2004  2007\nNevada   2.0  24.0  26.0   NaN   NaN\nOcean    NaN   NaN   NaN  50.0  60.0\nOhio     NaN   2.1   2.2   NaN   NaN\n"
     ]
    }
   ],
   "source": [
    "'''嵌套字典转换DataFrame\n",
    "    外层字典的key作为column，内层的键作为index'''\n",
    "data3={'Ohio':{2001:2.1,2002:2.2},\n",
    "       'Nevada':{2000:2,2001:24,2002:26},\n",
    "       'Ocean':{2004:50,2007:60}}\n",
    "arr4=pd.DataFrame(data3)\n",
    "print(arr4)\n",
    "print('----------')\n",
    "print(arr4.T)"
   ]
  },
  {
   "cell_type": "code",
   "execution_count": 52,
   "metadata": {},
   "outputs": [
    {
     "name": "stdout",
     "output_type": "stream",
     "text": [
      "   pop   state  year\n0  1.5    Ohio  2000\n1  1.7    Ohio  2001\n2  3.6    Ohio  2002\n3  2.4  Nevada  2001\n4  2.9  Nevada  2002\n----------\n     year  pop  California\n1  2001.0  1.7         NaN\n2  2002.0  3.6         NaN\n3  2001.0  2.4         NaN\n4  2002.0  2.9         NaN\n5     NaN  NaN         NaN\n"
     ]
    }
   ],
   "source": [
    "'''DataFrame的Index对象是不可修改的，这样Index对象才能在多个数据结构中安全共享'''\n",
    "data4={'state':['Ohio','Ohio','Ohio','Nevada','Nevada'],\n",
    "       'year':[2000,2001,2002,2001,2002],\n",
    "       'pop':[1.5,1.7,3.6,2.4,2.9]}\n",
    "state1=['year','pop','California']\n",
    "arr5=pd.DataFrame(data4)\n",
    "print(arr5)\n",
    "print('----------')\n",
    "print(arr5.reindex([1,2,3,4,5],columns=state1)) #reindex()重排索引行和列"
   ]
  },
  {
   "cell_type": "code",
   "execution_count": 53,
   "metadata": {},
   "outputs": [
    {
     "name": "stdout",
     "output_type": "stream",
     "text": [
      "0      blue\n2    purple\n4    yellow\ndtype: object\n----------\n0      blue\n1      blue\n2    purple\n3    purple\n4    yellow\n5    yellow\ndtype: object\n----------\n0      blue\n1    purple\n2    purple\n3    yellow\n4    yellow\n5       NaN\ndtype: object\n"
     ]
    }
   ],
   "source": [
    "#reindex的method选项\n",
    "arr6=pd.Series(['blue','purple','yellow'],index=[0,2,4])\n",
    "print(arr6)\n",
    "print('----------')\n",
    "print(arr6.reindex(range(6),method='ffill')) #或者method='pad'。前向填充值\n",
    "print('----------')\n",
    "print(arr6.reindex(range(6),method='bfill')) #或者method='backfill'。后向填充值"
   ]
  },
  {
   "cell_type": "code",
   "execution_count": 54,
   "metadata": {},
   "outputs": [
    {
     "name": "stdout",
     "output_type": "stream",
     "text": [
      "          one  two  three  four\nOhio        0    1      2     3\nColorado    4    5      6     7\nUtah        8    9     10    11\nNew York   12   13     14    15\n----------\n          one  two  three  four\nColorado    4    5      6     7\nNew York   12   13     14    15\n----------\n          two  four\nOhio        1     3\nColorado    5     7\nUtah        9    11\nNew York   13    15\n"
     ]
    }
   ],
   "source": [
    "'''drop()：删除指定轴上的项'''\n",
    "data5=pd.DataFrame(np.arange(16).reshape(4,4),index=['Ohio','Colorado','Utah','New York'],columns=['one','two','three','four'])\n",
    "print(data5)\n",
    "print('----------')\n",
    "#默认是按行删除，axis=1表示按列删除\n",
    "print(data5.drop(['Ohio','Utah']))\n",
    "print('----------')\n",
    "print(data5.drop(['one','three'],axis=1))"
   ]
  },
  {
   "cell_type": "code",
   "execution_count": 55,
   "metadata": {},
   "outputs": [
    {
     "name": "stdout",
     "output_type": "stream",
     "text": [
      "a    0\nb    1\nc    2\nd    3\ndtype: int32\n----------\nc    2\nd    3\ndtype: int32\n----------\nb    1\nc    2\nd    3\ndtype: int32\n"
     ]
    }
   ],
   "source": [
    "'''Series的索引'''\n",
    "arr7=pd.Series(np.arange(4),index=['a','b','c','d'])\n",
    "print(arr7)\n",
    "print('----------')\n",
    "#标签的切片和普通Python切片的区别。前者的末端是包含的，后者不包含。\n",
    "print(arr7[2:4])\n",
    "print('----------')\n",
    "print(arr7['b':'d'])"
   ]
  },
  {
   "cell_type": "code",
   "execution_count": 56,
   "metadata": {},
   "outputs": [
    {
     "name": "stdout",
     "output_type": "stream",
     "text": [
      "          one  two  three  four\nOhio        0    1      2     3\nColorado    4    5      6     7\nUtah        8    9     10    11\nNew York   12   13     14    15\n----------\n          one  two  three  four\nOhio        0    1      2     3\nColorado    4    5      6     7\n----------\n          one  two  three  four\nColorado    4    5      6     7\nUtah        8    9     10    11\nNew York   12   13     14    15\n----------\n            one    two  three   four\nOhio       True   True   True   True\nColorado   True   True   True   True\nUtah       True   True  False  False\nNew York  False  False  False  False\n"
     ]
    }
   ],
   "source": [
    "'''DataFrame的索引'''\n",
    "data6=pd.DataFrame(np.arange(16).reshape(4,4),index=['Ohio','Colorado','Utah','New York'],columns=['one','two','three','four'])\n",
    "print(data6)\n",
    "print('----------')\n",
    "print(data6[:2])\n",
    "print('----------')\n",
    "print(data6[data6['three']>5])\n",
    "print('----------')\n",
    "print(data6<10) #布尔型索引"
   ]
  },
  {
   "cell_type": "code",
   "execution_count": 61,
   "metadata": {},
   "outputs": [
    {
     "name": "stdout",
     "output_type": "stream",
     "text": [
      "      two  four\nOhio    1     3\nUtah    9    11\n"
     ]
    }
   ],
   "source": [
    "'''通过ix[]选取DataFrame行和列的子集'''\n",
    "data7=pd.DataFrame(np.arange(16).reshape(4,4),index=['Ohio','Colorado','Utah','New York'],columns=['one','two','three','four'])\n",
    "print(data7.ix[['Ohio','Utah'],['two','four']])"
   ]
  },
  {
   "cell_type": "code",
   "execution_count": 63,
   "metadata": {},
   "outputs": [
    {
     "name": "stdout",
     "output_type": "stream",
     "text": [
      "a    2.0\nb    4.0\nc    NaN\nd    NaN\ne    NaN\nf    NaN\ndtype: float64\n"
     ]
    }
   ],
   "source": [
    "'''数据对齐：在不重叠的索引处引入NA值'''\n",
    "arr8=pd.Series([1,2,3,4,5],index=['a','b','c','d','e'])\n",
    "arr9=pd.Series([1,2,3],index=['a','b','f'])\n",
    "print(arr8+arr9)\n",
    "#对于DataFrame，对齐操作会同时发生在行和列上"
   ]
  },
  {
   "cell_type": "code",
   "execution_count": 57,
   "metadata": {},
   "outputs": [
    {
     "name": "stdout",
     "output_type": "stream",
     "text": [
      "      a     b     c     d   e\n0   0.0   2.0   4.0   6.0 NaN\n1   9.0  11.0  13.0  15.0 NaN\n2  18.0  20.0  22.0  24.0 NaN\n3   NaN   NaN   NaN   NaN NaN\n----------\n      a     b     c     d     e\n0   0.0   2.0   4.0   6.0   4.0\n1   9.0  11.0  13.0  15.0   9.0\n2  18.0  20.0  22.0  24.0  14.0\n3  15.0  16.0  17.0  18.0  19.0\n----------\n   a  b   c   d  e\n0  0  1   2   3  0\n1  4  5   6   7  0\n2  8  9  10  11  0\n"
     ]
    }
   ],
   "source": [
    "'''算数方法'''\n",
    "data8=pd.DataFrame(np.arange(12).reshape(3,4),columns=list('abcd'))\n",
    "data9=pd.DataFrame(np.arange(20).reshape(4,5),columns=list('abcde'))\n",
    "print(data8+data9)\n",
    "print('----------')\n",
    "print(data8.add(data9,fill_value=0))\n",
    "print('----------')\n",
    "print(data8.reindex(columns=data9.columns,fill_value=0))"
   ]
  },
  {
   "cell_type": "code",
   "execution_count": 59,
   "metadata": {},
   "outputs": [
    {
     "name": "stdout",
     "output_type": "stream",
     "text": [
      "   0  1   2   3\n0  0  1   2   3\n1  4  5   6   7\n2  8  9  10  11\n----------\n   0  1  2  3\n0  0  0  0  0\n1  4  4  4  4\n2  8  8  8  8\n"
     ]
    }
   ],
   "source": [
    "'''DataFrame和Series之间的运算'''\n",
    "data10=pd.DataFrame(np.arange(12).reshape(3,4))\n",
    "print(data10)\n",
    "print('----------')\n",
    "print(data10-data10.ix[0]) #广播"
   ]
  },
  {
   "cell_type": "code",
   "execution_count": 60,
   "metadata": {},
   "outputs": [
    {
     "name": "stdout",
     "output_type": "stream",
     "text": [
      "d    0\na    1\nc    2\nb    3\ndtype: int32\n----------\na    1\nb    3\nc    2\nd    0\ndtype: int32\n----------\nd    0\na    1\nc    2\nb    3\ndtype: int32\n"
     ]
    }
   ],
   "source": [
    "'''Series的排序和排名'''\n",
    "arr10=pd.Series(range(4),index=['d','a','c','b'])\n",
    "print(arr10)\n",
    "print('----------')\n",
    "print(arr10.sort_index())\n",
    "print('----------')\n",
    "print(arr10.sort_values())"
   ]
  },
  {
   "cell_type": "code",
   "execution_count": 61,
   "metadata": {},
   "outputs": [
    {
     "name": "stdout",
     "output_type": "stream",
     "text": [
      "       d  a  b  c\nthree  3  4  7  0\none    5  1  6  2\n----------\n       d  a  b  c\none    5  1  6  2\nthree  3  4  7  0\n----------\n       a  b  c  d\nthree  4  7  0  3\none    1  6  2  5\n----------\n       d  a  b  c\none    5  1  6  2\nthree  3  4  7  0\n"
     ]
    }
   ],
   "source": [
    "'''DataFrame的排序'''\n",
    "data11=pd.DataFrame(np.array([3,4,7,0,5,1,6,2]).reshape(2,4),index=['three','one'],columns=['d','a','b','c'])\n",
    "print(data11)\n",
    "print('----------')\n",
    "print(data11.sort_index()) #按行\n",
    "print('----------')\n",
    "print(data11.sort_index(axis=1)) #按列\n",
    "print('----------')\n",
    "print(data11.sort_values(by=['b','d'])) #选中列的排序"
   ]
  },
  {
   "cell_type": "code",
   "execution_count": 8,
   "metadata": {},
   "outputs": [
    {
     "name": "stdout",
     "output_type": "stream",
     "text": [
      "0    4.0\n1    3.0\n2    5.0\n3    6.0\n4    2.0\n5    1.0\ndtype: float64\n"
     ]
    }
   ],
   "source": [
    "arr11=pd.Series([4,3,5,12,1,0])\n",
    "print(arr11.rank(ascending=True,method='max')) #将值变成排名"
   ]
  },
  {
   "cell_type": "code",
   "execution_count": 62,
   "metadata": {},
   "outputs": [
    {
     "name": "stdout",
     "output_type": "stream",
     "text": [
      "a    0\na    1\nb    2\nb    3\nc    4\ndtype: int32\n----------\na    0\na    1\ndtype: int32\n----------\n4\n"
     ]
    }
   ],
   "source": [
    "'''带重复值的索引'''\n",
    "arr12=pd.Series(range(5),index=['a','a','b','b','c'])\n",
    "print(arr12)\n",
    "print('----------')\n",
    "print(arr12['a']) #重复索引返回一个Series\n",
    "print('----------')\n",
    "print(arr12['c']) #单个索引返回一个标量值"
   ]
  },
  {
   "cell_type": "code",
   "execution_count": 63,
   "metadata": {},
   "outputs": [
    {
     "name": "stdout",
     "output_type": "stream",
     "text": [
      "    one  two\na  1.40  NaN\nb  7.10 -4.5\nc   NaN  NaN\nd  0.75 -1.3\n----------\none    9.25\ntwo   -5.80\ndtype: float64\n----------\na    1.40\nb    2.60\nc     NaN\nd   -0.55\ndtype: float64\n----------\na      NaN\nb    1.300\nc      NaN\nd   -0.275\ndtype: float64\n----------\none    b\ntwo    d\ndtype: object\n"
     ]
    }
   ],
   "source": [
    "'''汇总'''\n",
    "data12=pd.DataFrame([[1.4,np.nan],[7.1,-4.5],[np.nan,np.nan],[0.75,-1.3]],index=list('abcd'),columns=['one','two'])\n",
    "print(data12)\n",
    "print('----------')\n",
    "print(data12.sum()) #sum()默认是按列\n",
    "print('----------')\n",
    "print(data12.sum(axis=1)) #按行\n",
    "print('----------')\n",
    "print(data12.mean(axis=1,skipna=False)) #skipna()：排除缺失值，默认为True\n",
    "print('----------')\n",
    "print(data12.idxmax()) #idxmax()和idxmin()返回最大值，最小值对应的index和column name"
   ]
  },
  {
   "cell_type": "code",
   "execution_count": 68,
   "metadata": {},
   "outputs": [
    {
     "name": "stdout",
     "output_type": "stream",
     "text": [
      "       John  LiLi  Lisa  Mike\n12-24   1.0     4     2   1.0\n12-25   5.0     4     4   3.0\n12-26   4.5     4     4   3.5\n12-27   3.0     3     5   2.0\n----------\n0.567480306535\n----------\n-0.662266178533\n----------\nJohn    0.644949\nLiLi   -0.662266\nLisa    1.000000\nMike    0.567480\ndtype: float64\n"
     ]
    }
   ],
   "source": [
    "'''计算相关系数'''\n",
    "data13=pd.DataFrame([[1,4,2,1],[5,4,4,3],[4.5,4,4,3.5],[3,3,5,2]],index=['12-24','12-25','12-26','12-27'],columns=['John','LiLi','Lisa','Mike'])\n",
    "print(data13)\n",
    "print('----------')\n",
    "print(data13['Mike'].corr(data13['Lisa'])) #corr()计算两个Series之间的相关度，具体相关度查看该函数的文档\n",
    "print('----------')\n",
    "print(data13['LiLi'].corr(data13['Lisa']))\n",
    "print('----------')\n",
    "print(data13.corrwith(data13['Lisa'])) #corrwith()计算DataFrame和一个Series之间的相关度\n",
    "#如果按行计算，则加上axis=1"
   ]
  },
  {
   "cell_type": "code",
   "execution_count": 46,
   "metadata": {},
   "outputs": [
    {
     "name": "stdout",
     "output_type": "stream",
     "text": [
      "['b' 'a' 'c' 'd']\n----------\na    3\nc    2\nb    1\nd    1\ndtype: int64\n----------\n0    False\n1     True\n2    False\n3    False\n4     True\n5    False\n6     True\ndtype: bool\n----------\n1    a\n4    a\n6    a\ndtype: object\n"
     ]
    }
   ],
   "source": [
    "'''唯一值，值计数'''\n",
    "arr13=pd.Series(['b','a','c','d','a','c','a'])\n",
    "print(arr13.unique()) #计算唯一值\n",
    "print('----------')\n",
    "print(arr13.value_counts()) #计算Series中各值出现的频率\n",
    "print('----------')\n",
    "arr14=arr13.isin(['a']) #通过isin得到一个布尔型数组，根据这个数组选出其中的子集\n",
    "print(arr14) \n",
    "print('----------')\n",
    "print(arr13[arr14])"
   ]
  },
  {
   "cell_type": "code",
   "execution_count": 70,
   "metadata": {},
   "outputs": [
    {
     "name": "stdout",
     "output_type": "stream",
     "text": [
      "0    False\n1     True\n2    False\n3     True\n4    False\ndtype: bool\n----------\n0    1.0\n2    3.5\n4    7.0\ndtype: float64\n----------\n     0    1    2\n0  1.0  6.5  3.0\n----------\n     0    1    2\n0  1.0  6.5  3.0\n1  1.0  NaN  NaN\n3  NaN  6.5  3.0\n----------\n     0    1    2\n0  1.0  6.5  3.0\n3  NaN  6.5  3.0\n----------\n     0      1      2\n0  1.0    6.5    3.0\n1  1.0  100.0  200.0\n2  NaN  100.0  200.0\n3  NaN    6.5    3.0\n"
     ]
    }
   ],
   "source": [
    "'''处理缺失数据'''\n",
    "from numpy import nan as NA\n",
    "arr15=pd.Series([1,NA,3.5,NA,7])\n",
    "data14=pd.DataFrame([[1,6.5,3],[1,NA,NA],[NA,NA,NA],[NA,6.5,3]])\n",
    "print(arr15.isnull())\n",
    "print('----------')\n",
    "print(arr15.dropna()) \n",
    "print('----------')\n",
    "print(data14.dropna()) #dropna()默认丢弃任何含有NA的行。如果丢弃全为NA的列，添加axis=1\n",
    "print('----------')\n",
    "print(data14.dropna(how='all')) #how='all'只丢弃全为NA的行\n",
    "print('----------')\n",
    "print(data14.dropna(thresh=2)) #选出含有2个以上non-NA的行\n",
    "print('----------')\n",
    "#print(data14.fillna(0)) #为NA填充值0\n",
    "print(data14.fillna({1:100,2:200})) #按列为为NA填充值，如果按行填充则添加axis=1"
   ]
  },
  {
   "cell_type": "code",
   "execution_count": 85,
   "metadata": {},
   "outputs": [
    {
     "name": "stdout",
     "output_type": "stream",
     "text": [
      "            0\na 1 -0.094555\n  2 -0.720497\n  3  0.840033\nb 1 -1.038809\n  2  0.813479\n  3  0.601762\nc 1 -0.044930\n  2 -0.368784\nd 2  0.773070\n  3  0.310715\n----------\nMultiIndex(levels=[['a', 'b', 'c', 'd'], [1, 2, 3]],\n           labels=[[0, 0, 0, 1, 1, 1, 2, 2, 3, 3], [0, 1, 2, 0, 1, 2, 0, 1, 1, 2]])\n----------\n          0                    \n          1         2         3\na -0.094555 -0.720497  0.840033\nb -1.038809  0.813479  0.601762\nc -0.044930 -0.368784       NaN\nd       NaN  0.773070  0.310715\n----------\n            0\na 1 -0.094555\n  2 -0.720497\n  3  0.840033\nb 1 -1.038809\n  2  0.813479\n  3  0.601762\nc 1 -0.044930\n  2 -0.368784\nd 2  0.773070\n  3  0.310715\n----------\n                  0\nkey2 key1          \n1    a    -0.094555\n2    a    -0.720497\n3    a     0.840033\n1    b    -1.038809\n2    b     0.813479\n3    b     0.601762\n1    c    -0.044930\n2    c    -0.368784\n     d     0.773070\n3    d     0.310715\n----------\n             0\nkey2          \n1    -1.178295\n2     0.497268\n3     1.752509\n"
     ]
    }
   ],
   "source": [
    "'''层次化索引'''\n",
    "data15=pd.DataFrame(np.random.randn(10),index=[['a','a','a','b','b','b','c','c','d','d'],[1,2,3,1,2,3,1,2,2,3]])\n",
    "print(data15)\n",
    "print('----------')\n",
    "print(data15.index)\n",
    "print('----------')\n",
    "print(data15.unstack()) #unstack()重塑一个DataFrame\n",
    "print('----------')\n",
    "print(data15.unstack().stack())\n",
    "print('----------')\n",
    "data15.index.names=['key1','key2']\n",
    "print(data15.swaplevel('key1','key2')) #swaplevel()重排分级顺序\n",
    "print('----------')\n",
    "print(data15.sum(level='key2')) #level参数指定某条轴上求和的级别"
   ]
  },
  {
   "cell_type": "code",
   "execution_count": 88,
   "metadata": {},
   "outputs": [
    {
     "name": "stdout",
     "output_type": "stream",
     "text": [
      "   a  b    c  d\n0  0  7  one  0\n1  1  6  one  1\n2  2  5  one  2\n3  3  4  two  0\n4  4  3  two  1\n5  5  2  two  2\n6  6  1  two  3\n----------\n       a  b\nc   d      \none 0  0  7\n    1  1  6\n    2  2  5\ntwo 0  3  4\n    1  4  3\n    2  5  2\n    3  6  1\n----------\n       a  b    c  d\nc   d              \none 0  0  7  one  0\n    1  1  6  one  1\n    2  2  5  one  2\ntwo 0  3  4  two  0\n    1  4  3  two  1\n    2  5  2  two  2\n    3  6  1  two  3\n"
     ]
    }
   ],
   "source": [
    "'''DataFrame的列转换为行'''\n",
    "data16=pd.DataFrame({'a':range(7),'b':range(7,0,-1),'c':['one','one','one','two','two','two','two'],'d':[0,1,2,0,1,2,3]})\n",
    "print(data16)\n",
    "print('----------')\n",
    "print(data16.set_index(['c','d'])) #默认情况下，转换为行的列会自动移除\n",
    "print('----------')\n",
    "print(data16.set_index(['c','d'],drop=False))\n",
    "#相反操作使用reset_index()"
   ]
  },
  {
   "cell_type": "code",
   "execution_count": null,
   "metadata": {},
   "outputs": [],
   "source": [
    ""
   ]
  }
 ],
 "metadata": {
  "kernelspec": {
   "display_name": "Python 2",
   "language": "python",
   "name": "python2"
  },
  "language_info": {
   "codemirror_mode": {
    "name": "ipython",
    "version": 2.0
   },
   "file_extension": ".py",
   "mimetype": "text/x-python",
   "name": "python",
   "nbconvert_exporter": "python",
   "pygments_lexer": "ipython2",
   "version": "2.7.6"
  }
 },
 "nbformat": 4,
 "nbformat_minor": 0
}