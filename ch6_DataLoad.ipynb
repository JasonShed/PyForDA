{
 "cells": [
  {
   "cell_type": "markdown",
   "metadata": {
    "collapsed": true
   },
   "source": [
    "## 第6章 数据加载、存储与文件格式\n",
    "---\n",
    "pandas提供了一些用于将表格型数据读取为DataFrame对象的函数\n",
    "- read_csv():加载带分隔符的数据。默认分隔符为逗号\n",
    "- read_table()：加载带分隔符的数据。默认分隔符为制表符\\t\n",
    "- read_fwf()：读取定宽列格式数据（无分隔符）\n",
    "- read_clipboard()：读取剪切板中的数据。在将网页转换为表格时很有用"
   ]
  },
  {
   "cell_type": "code",
   "execution_count": 1,
   "metadata": {},
   "outputs": [],
   "source": [
    "import pandas as pd\n",
    "import numpy as np"
   ]
  },
  {
   "cell_type": "code",
   "execution_count": null,
   "metadata": {},
   "outputs": [],
   "source": [
    "test1=pd.read_csv('test.csv',names=[],index_col=[]) #names和index_col分别指定column name和index name\n",
    "sentinels={'message':['NA'],'something':['NAN']}\n",
    "test1=pd.read_csv('test.csv',na_values=sentinels) #给各列指定不同的NA标记值：为message列指定NA值为‘NA’，为something列指定NA值为‘NAN’"
   ]
  },
  {
   "cell_type": "markdown",
   "metadata": {},
   "source": [
    "read_csv()和read_table()函数的参数\n",
    "\n",
    "![](http://i2.muimg.com/567571/18f6994ff827f4fd.png)\n",
    "![](http://i4.buimg.com/567571/0ee0ab9805cd446c.png)"
   ]
  },
  {
   "cell_type": "code",
   "execution_count": null,
   "metadata": {},
   "outputs": [],
   "source": [
    "'''将数据输出到文本格式'''\n",
    "data.to_csv('test.csv',sep='|',na_rep='None',index=False,header=False,columns=['a','b'])\n",
    "#默认分隔符为','这里设置为'|'\n",
    "#缺失值默认表示为空字符串，这里表示为'None'\n",
    "#默认显示出index name和header name，index和header设置为False表示不显示\n",
    "#columns参数指定输出对应列\n"
   ]
  },
  {
   "cell_type": "code",
   "execution_count": null,
   "metadata": {},
   "outputs": [],
   "source": [
    "'''Python内置的csv模块'''\n",
    "import csv\n",
    "f=open('test.csv')\n",
    "reader=csv.reader(f) #reader()函数每行产生一个元组\n",
    "lines=list(csv.reader(open('test.csv')))\n",
    "header,values=lines[0],lines[1:]\n",
    "data_dict={h:v for h,v in zip(header,zip(*values))}\n",
    "'''csv文件有很多格式，只需自定义csv.Dialect的一个子类'''\n",
    "class my_dialect(csv.Dialect):\n",
    "    lineterminator = '\\n'\n",
    "    delimiter = ';'\n",
    "    quotechar = '\"'\n",
    "reader=csv.reader(f,dialect=my_dialect)\n"
   ]
  },
  {
   "cell_type": "markdown",
   "metadata": {},
   "source": [
    "## JSON数据\n",
    "全称JavaScript Object Notation,通过 HTTP请求在Web浏览器和其他应用程序之间发送数据的标准格式之一。\n",
    "- 基本类型有对象（字典）、数组（列表）、字符串、数值、布尔值以及null\n",
    "- 对象中所有的key其类型必须是字符串"
   ]
  },
  {
   "cell_type": "code",
   "execution_count": null,
   "metadata": {},
   "outputs": [],
   "source": [
    "import json\n",
    "result=json.loads(obj) #JSON转换为Python形式\n",
    "ajson=json.dump(result) #Python对象转换为JSON形式"
   ]
  },
  {
   "cell_type": "markdown",
   "metadata": {},
   "source": [
    "## XML和HTML\n",
    "Python的lxml库可以读写HTML和XML格式数据\n",
    "- lxml.html处理HTML\n",
    "- lxml.objectify处理XML"
   ]
  },
  {
   "cell_type": "code",
   "execution_count": 5,
   "metadata": {},
   "outputs": [],
   "source": [
    "from lxml.html import parse\n",
    "from urllib2 import urlopen\n",
    "parsed=parse(urlopen('http://........'))\n",
    "doc=parsed.getroot() #获取根节点"
   ]
  },
  {
   "cell_type": "code",
   "execution_count": null,
   "metadata": {},
   "outputs": [],
   "source": [
    "from lxml import objectify\n",
    "path='XXXX.xml'\n",
    "parsed=objectify.parse(open(path))\n",
    "root=parsed.getroot() "
   ]
  },
  {
   "cell_type": "markdown",
   "metadata": {},
   "source": [
    "## 实现数据的二进制格式存储\n",
    "- 使用Python内置的pickle序列化\n",
    "- pandas对象的save()：将数据以pickle形式保存到磁盘上"
   ]
  },
  {
   "cell_type": "markdown",
   "metadata": {},
   "source": [
    "## HDF5格式\n",
    "全称是hierarchical data format，即层次型数据格式。\n",
    "- Python的HDF5库有2个接口：PyTables和h5py\n",
    "- pandas的HDFStore类，通过PyTables存储pandas对象"
   ]
  },
  {
   "cell_type": "code",
   "execution_count": null,
   "metadata": {},
   "outputs": [],
   "source": [
    "data=pd.HDFStore('test.h5')"
   ]
  },
  {
   "cell_type": "markdown",
   "metadata": {},
   "source": [
    "## 读取Microsoft Excel文件\n",
    "- pandas的ExcelFile类，其中用到了xlrd和openpyxl包"
   ]
  },
  {
   "cell_type": "code",
   "execution_count": null,
   "metadata": {},
   "outputs": [],
   "source": [
    "xls_file=pd.ExcelFile('data.xls')\n",
    "table=xls_file.parse('sheet1') #通过parse读取到DataFrame中"
   ]
  }
 ],
 "metadata": {
  "kernelspec": {
   "display_name": "Python 2",
   "language": "python",
   "name": "python2"
  },
  "language_info": {
   "codemirror_mode": {
    "name": "ipython",
    "version": 2.0
   },
   "file_extension": ".py",
   "mimetype": "text/x-python",
   "name": "python",
   "nbconvert_exporter": "python",
   "pygments_lexer": "ipython2",
   "version": "2.7.6"
  }
 },
 "nbformat": 4,
 "nbformat_minor": 0
}