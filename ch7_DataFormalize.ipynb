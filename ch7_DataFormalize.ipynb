{
 "cells": [
  {
   "cell_type": "markdown",
   "metadata": {
    "collapsed": true
   },
   "source": [
    "## 第7章 数据规整化：清理、转换、合并、重塑\n"
   ]
  },
  {
   "cell_type": "code",
   "execution_count": 1,
   "metadata": {},
   "outputs": [],
   "source": [
    "import numpy as np\n",
    "import pandas as pd"
   ]
  },
  {
   "cell_type": "code",
   "execution_count": 7,
   "metadata": {},
   "outputs": [
    {
     "name": "stdout",
     "output_type": "stream",
     "text": [
      "   data1 key\n0      0   b\n1      1   b\n2      2   a\n3      3   c\n4      4   a\n5      5   a\n6      6   b\n   data2 key\n0      0   a\n1      1   b\n2      2   d\n   data1 key  data2\n0      0   b      1\n1      1   b      1\n2      6   b      1\n3      2   a      0\n4      4   a      0\n5      5   a      0\n"
     ]
    }
   ],
   "source": [
    "'''合并数据集\n",
    "    pandas.merge()'''\n",
    "data1=pd.DataFrame({'key':['b','b','a','c','a','a','b'],'data1':range(7)})\n",
    "data2=pd.DataFrame({'key':['a','b','d'],'data2':range(3)})\n",
    "#两个DataFrame中有相同的行'a'和'b'\n",
    "print(data1)\n",
    "print(data2)\n",
    "print(pd.merge(data1,data2,on='key')) #指定key列"
   ]
  },
  {
   "cell_type": "code",
   "execution_count": 10,
   "metadata": {},
   "outputs": [
    {
     "name": "stdout",
     "output_type": "stream",
     "text": [
      "   data3 lkey  data4 rkey\n0      0    b      1    b\n1      1    b      1    b\n2      6    b      1    b\n3      2    a      0    a\n4      4    a      0    a\n5      5    a      0    a\n"
     ]
    }
   ],
   "source": [
    "data3=pd.DataFrame({'lkey':['b','b','a','c','a','a','b'],'data3':range(7)})\n",
    "data4=pd.DataFrame({'rkey':['a','b','d'],'data4':range(3)})\n",
    "#column name不同，可以进行分别指定\n",
    "print(pd.merge(data3,data4,left_on='lkey',right_on='rkey'))"
   ]
  },
  {
   "cell_type": "code",
   "execution_count": 16,
   "metadata": {},
   "outputs": [
    {
     "name": "stdout",
     "output_type": "stream",
     "text": [
      "   data1 key  data2\n0    0.0   b    1.0\n1    1.0   b    1.0\n2    6.0   b    1.0\n3    2.0   a    0.0\n4    4.0   a    0.0\n5    5.0   a    0.0\n6    3.0   c    NaN\n7    NaN   d    2.0\n-------------------\n   data1 key  data2\n0      0   b    1.0\n1      1   b    1.0\n2      2   a    0.0\n3      3   c    NaN\n4      4   a    0.0\n5      5   a    0.0\n6      6   b    1.0\n-------------------\n   data1 key  data2\n0    0.0   b      1\n1    1.0   b      1\n2    6.0   b      1\n3    2.0   a      0\n4    4.0   a      0\n5    5.0   a      0\n6    NaN   d      2\n"
     ]
    }
   ],
   "source": [
    "#默认情况下，merge()做的是交集（inner），通过how属性指定。\n",
    "# 多对多产生的是行的笛卡尔积，data1有3行，data2有2行，对应产生的有6行\n",
    "print (pd.merge(data1,data2,how='outer'))\n",
    "print('-------------------')\n",
    "print (pd.merge(data1,data2,how='left'))\n",
    "print('-------------------')\n",
    "print (pd.merge(data1,data2,how='right'))"
   ]
  },
  {
   "cell_type": "code",
   "execution_count": 17,
   "metadata": {},
   "outputs": [],
   "source": [
    "#对于重复的列名，通过merge()的suffixes属性设置"
   ]
  },
  {
   "cell_type": "code",
   "execution_count": 17,
   "metadata": {},
   "outputs": [
    {
     "name": "stdout",
     "output_type": "stream",
     "text": [
      "['hello', 'world', 'apple']\n"
     ]
    }
   ],
   "source": [
    "L1 = ['Hello', 'World', 18, 'Apple', None]\n",
    "L2 = [i.lower() for i in L1 if isinstance(i,str)]\n",
    "\n",
    "print(L2)"
   ]
  },
  {
   "cell_type": "code",
   "execution_count": null,
   "metadata": {},
   "outputs": [],
   "source": [
    ""
   ]
  },
  {
   "cell_type": "code",
   "execution_count": null,
   "metadata": {},
   "outputs": [],
   "source": [
    ""
   ]
  },
  {
   "cell_type": "code",
   "execution_count": null,
   "metadata": {},
   "outputs": [],
   "source": [
    ""
   ]
  },
  {
   "cell_type": "code",
   "execution_count": null,
   "metadata": {},
   "outputs": [],
   "source": [
    ""
   ]
  }
 ],
 "metadata": {
  "kernelspec": {
   "display_name": "Python 2",
   "language": "python",
   "name": "python2"
  },
  "language_info": {
   "codemirror_mode": {
    "name": "ipython",
    "version": 2.0
   },
   "file_extension": ".py",
   "mimetype": "text/x-python",
   "name": "python",
   "nbconvert_exporter": "python",
   "pygments_lexer": "ipython2",
   "version": "2.7.6"
  }
 },
 "nbformat": 4,
 "nbformat_minor": 0
}