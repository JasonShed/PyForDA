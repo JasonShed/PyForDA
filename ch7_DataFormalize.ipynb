{
 "cells": [
  {
   "cell_type": "markdown",
   "metadata": {
    "collapsed": true
   },
   "source": [
    "## 第7章 数据规整化：清理、转换、合并、重塑\n"
   ]
  },
  {
   "cell_type": "code",
   "execution_count": 7,
   "metadata": {},
   "outputs": [],
   "source": [
    "import numpy as np\n",
    "import pandas as pd"
   ]
  },
  {
   "cell_type": "code",
   "execution_count": 17,
   "metadata": {},
   "outputs": [
    {
     "name": "stdout",
     "output_type": "stream",
     "text": [
      "   data1 key\n0      0   b\n1      1   b\n2      2   a\n3      3   c\n4      4   a\n5      5   a\n6      6   b\n   data2 key\n0      0   a\n1      1   b\n2      2   d\n   data1 key  data2\n0      0   b      1\n1      1   b      1\n2      6   b      1\n3      2   a      0\n4      4   a      0\n5      5   a      0\n"
     ]
    }
   ],
   "source": [
    "'''合并数据集\n",
    "    pandas.merge()'''\n",
    "left1=pd.DataFrame({'key':['b','b','a','c','a','a','b'],'data1':range(7)})\n",
    "right1=pd.DataFrame({'key':['a','b','d'],'data2':range(3)})\n",
    "#两个DataFrame中有相同的行'a'和'b'\n",
    "print(left1)\n",
    "print(right1)\n",
    "print(pd.merge(left1,right1,on='key')) #指定key列"
   ]
  },
  {
   "cell_type": "markdown",
   "metadata": {},
   "source": [
    "## pd.merge()函数的参数列表\n",
    "![](http://i2.muimg.com/567571/bb56c8b988ef3e23.png)"
   ]
  },
  {
   "cell_type": "code",
   "execution_count": 16,
   "metadata": {},
   "outputs": [
    {
     "name": "stdout",
     "output_type": "stream",
     "text": [
      "   data3 lkey  data4 rkey\n0      0    b      1    b\n1      1    b      1    b\n2      6    b      1    b\n3      2    a      0    a\n4      4    a      0    a\n5      5    a      0    a\n"
     ]
    }
   ],
   "source": [
    "left2=pd.DataFrame({'lkey':['b','b','a','c','a','a','b'],'data3':range(7)})\n",
    "right2=pd.DataFrame({'rkey':['a','b','d'],'data4':range(3)})\n",
    "#column name不同，可以进行分别指定\n",
    "print(pd.merge(left2,right2,left_on='lkey',right_on='rkey'))"
   ]
  },
  {
   "cell_type": "code",
   "execution_count": 18,
   "metadata": {},
   "outputs": [
    {
     "name": "stdout",
     "output_type": "stream",
     "text": [
      "   data1 key  data2\n0    0.0   b    1.0\n1    1.0   b    1.0\n2    6.0   b    1.0\n3    2.0   a    0.0\n4    4.0   a    0.0\n5    5.0   a    0.0\n6    3.0   c    NaN\n7    NaN   d    2.0\n-------------------\n   data1 key  data2\n0      0   b    1.0\n1      1   b    1.0\n2      2   a    0.0\n3      3   c    NaN\n4      4   a    0.0\n5      5   a    0.0\n6      6   b    1.0\n-------------------\n   data1 key  data2\n0    0.0   b      1\n1    1.0   b      1\n2    6.0   b      1\n3    2.0   a      0\n4    4.0   a      0\n5    5.0   a      0\n6    NaN   d      2\n"
     ]
    }
   ],
   "source": [
    "#默认情况下，merge()做的是交集（inner），通过how属性指定。\n",
    "# 多对多产生的是行的笛卡尔积，data1有3行，data2有2行，对应产生的有6行\n",
    "print (pd.merge(left1,right1,how='outer'))\n",
    "print('-------------------')\n",
    "print (pd.merge(left1,right1,how='left'))\n",
    "print('-------------------')\n",
    "print (pd.merge(left1,right1,how='right'))"
   ]
  },
  {
   "cell_type": "code",
   "execution_count": 19,
   "metadata": {},
   "outputs": [
    {
     "name": "stdout",
     "output_type": "stream",
     "text": [
      "  key1 key2_left  lval key2_right  rval\n0  foo       one     1        one     4\n1  foo       one     1        one     5\n2  foo       two     2        one     4\n3  foo       two     2        one     5\n4  bar       one     3        one     6\n5  bar       one     3        two     7\n"
     ]
    }
   ],
   "source": [
    "#对于重复的列名，通过merge()的suffixes属性设置(添加后缀)\n",
    "left3 = pd.DataFrame({'key1':['foo','foo','bar'],'key2':['one','two','one'],'lval':[1,2,3]})\n",
    "right3 = pd.DataFrame({'key1':['foo','foo','bar','bar'],'key2':['one','one','one','two'],'rval':[4,5,6,7]})\n",
    "print(pd.merge(left3,right3,on='key1',suffixes=('_left','_right'))) #对于重复的列名key2，分别加上后缀以区分"
   ]
  },
  {
   "cell_type": "code",
   "execution_count": 20,
   "metadata": {},
   "outputs": [
    {
     "name": "stdout",
     "output_type": "stream",
     "text": [
      "  key  value\n0   a      0\n1   b      1\n2   a      2\n3   a      3\n4   b      4\n5   c      5\n   group_val\na        3.5\nb        7.0\n-------------------\n  key  value  group_val\n0   a      0        3.5\n2   a      2        3.5\n3   a      3        3.5\n1   b      1        7.0\n4   b      4        7.0\n"
     ]
    }
   ],
   "source": [
    "'''DataFrame的索引作为连接键,设置left_index或right_index属性'''\n",
    "left4=pd.DataFrame({'key':['a','b','a','a','b','c'],'value':range(6)})\n",
    "right4=pd.DataFrame({'group_val':[3.5,7]},index=['a','b'])\n",
    "print(left4)\n",
    "print(right4)\n",
    "print('-------------------')\n",
    "print(pd.merge(left4,right4,left_on='key',right_index=True))"
   ]
  },
  {
   "cell_type": "code",
   "execution_count": 21,
   "metadata": {},
   "outputs": [
    {
     "name": "stdout",
     "output_type": "stream",
     "text": [
      "   data    key1   key2\n0     0    Ohio   2000\n1     1    Ohio   2001\n2     2    Ohio  20002\n3     3  Nevada   2001\n4     4  Nevada   2002\n-------------------\n             event1  event2\nNevada 2001       0       1\n       2000       2       3\nOhio   2000       4       5\n       2000       6       7\n       2001       8       9\n       2002      10      11\n-------------------\n   data    key1  key2  event1  event2\n0     0    Ohio  2000       4       5\n0     0    Ohio  2000       6       7\n1     1    Ohio  2001       8       9\n3     3  Nevada  2001       0       1\n"
     ]
    }
   ],
   "source": [
    "'''对于层次化索引的数据做merge\n",
    "    将要合并的列以list形式传入'''\n",
    "left5=pd.DataFrame({'data':range(5),'key1':['Ohio','Ohio','Ohio','Nevada','Nevada'],'key2':[2000,2001,20002,2001,2002]})\n",
    "right5=pd.DataFrame(np.arange(12).reshape(6,2),columns=['event1','event2'],index=[['Nevada','Nevada','Ohio','Ohio','Ohio','Ohio'],[2001,2000,2000,2000,2001,2002]])\n",
    "print(left5)\n",
    "print('-------------------')\n",
    "print(right5)\n",
    "print('-------------------')\n",
    "print(pd.merge(left5,right5,left_on=['key1','key2'],right_index=True))"
   ]
  },
  {
   "cell_type": "code",
   "execution_count": 33,
   "metadata": {},
   "outputs": [
    {
     "name": "stdout",
     "output_type": "stream",
     "text": [
      "   Ohio  Nevada\na     1       2\nc     3       4\ne     5       6\n   Missouri  Alabama\nb         7        8\nc         9       10\nd        11       12\ne        13       14\n   New York  Oregon\na         0       1\nc         2       3\ne         4       5\nf         6       7\n-------------------\n   Ohio  Nevada  Missouri  Alabama\na   1.0     2.0       NaN      NaN\nb   NaN     NaN       7.0      8.0\nc   3.0     4.0       9.0     10.0\nd   NaN     NaN      11.0     12.0\ne   5.0     6.0      13.0     14.0\n-------------------\n   Ohio  Nevada  Missouri  Alabama  New York  Oregon\na     1       2       NaN      NaN         0       1\nc     3       4       9.0     10.0         2       3\ne     5       6      13.0     14.0         4       5\n"
     ]
    }
   ],
   "source": [
    "'''DataFrame的join()更方便的实现按索引合并(不管有没有相同的column name)'''\n",
    "left6=pd.DataFrame([[1,2],[3,4],[5,6]],index=['a','c','e'],columns=['Ohio','Nevada'])\n",
    "right6=pd.DataFrame([[7,8],[9,10],[11,12],[13,14]],index=['b','c','d','e'],columns=['Missouri','Alabama'])\n",
    "another=pd.DataFrame(np.arange(8).reshape(4,2),columns=['New York','Oregon'],index=['a','c','e','f'])\n",
    "print(left6)\n",
    "print(right6)\n",
    "print(another)\n",
    "print('-------------------')\n",
    "print(left6.join(right6,how='outer'))\n",
    "print('-------------------')\n",
    "print(left6.join([right6,another])) #向join传入DataFrame"
   ]
  },
  {
   "cell_type": "code",
   "execution_count": 37,
   "metadata": {},
   "outputs": [
    {
     "name": "stdout",
     "output_type": "stream",
     "text": [
      "[[ 0  1  2  3]\n [ 4  5  6  7]\n [ 8  9 10 11]\n [ 0  1  2  3]\n [ 4  5  6  7]\n [ 8  9 10 11]]\n-------------------\n[[ 0  1  2  3  0  1  2  3]\n [ 4  5  6  7  4  5  6  7]\n [ 8  9 10 11  8  9 10 11]]\n"
     ]
    }
   ],
   "source": [
    "'''NumPy的conccatenate()函数：合并原始的NumPy数组'''\n",
    "arr1=np.arange(12).reshape(3,4)\n",
    "print(np.concatenate([arr1,arr1]))\n",
    "print('-------------------')\n",
    "print(np.concatenate([arr1,arr1],axis=1))"
   ]
  },
  {
   "cell_type": "code",
   "execution_count": 59,
   "metadata": {},
   "outputs": [
    {
     "name": "stdout",
     "output_type": "stream",
     "text": [
      "a    0\nb    3\nf    5\ng    6\ndtype: int64\n-------------------\na    0\nb    1\nc    2\nd    3\ne    4\nf    5\ng    6\ndtype: int64\n-------------------\n     0    1    2\na  0.0  NaN  NaN\nb  1.0  NaN  NaN\nc  NaN  2.0  NaN\nd  NaN  3.0  NaN\ne  NaN  4.0  NaN\nf  NaN  NaN  5.0\ng  NaN  NaN  6.0\n-------------------\n   0  1\na  0  0\nb  1  3\n-------------------\n     0    1\na  0.0  0.0\nc  NaN  NaN\nb  1.0  3.0\ne  NaN  NaN"
     ]
    },
    {
     "name": "stdout",
     "output_type": "stream",
     "text": [
      "\n"
     ]
    }
   ],
   "source": [
    "'''pandas的concat()函数'''\n",
    "arr2=pd.Series([0,1],index=['a','b'])\n",
    "arr3=pd.Series([2,3,4],index=['c','d','e'])\n",
    "arr4=pd.Series([5,6],index=['f','g'])\n",
    "arr5=pd.concat([arr2*3,arr4])\n",
    "print(arr5)\n",
    "print('-------------------')\n",
    "print(pd.concat([arr2,arr3,arr4])) #默认是按行合并\n",
    "print('-------------------')\n",
    "print(pd.concat([arr2,arr3,arr4],axis=1)) #axis=1按列合并，形成一个DataFrame\n",
    "print('-------------------')\n",
    "print(pd.concat([arr2,arr5],axis=1,join='inner')) #join参数默认取outer\n",
    "print('-------------------')\n",
    "print(pd.concat([arr2,arr5],axis=1,join_axes=[['a','c','b','e']])) #join_axes参数另设置index"
   ]
  },
  {
   "cell_type": "markdown",
   "metadata": {},
   "source": [
    "### concat()函数的参数\n",
    "![](http://i2.muimg.com/567571/fbabe87eb45483b2.png)"
   ]
  },
  {
   "cell_type": "code",
   "execution_count": 62,
   "metadata": {},
   "outputs": [
    {
     "name": "stdout",
     "output_type": "stream",
     "text": [
      "one    a    0\n       b    1\ntwo    a    0\n       b    1\nthree  f    5\n       g    6\ndtype: int64\n-------------------\n   one  two  three\na  0.0  0.0    NaN\nb  1.0  1.0    NaN\nf  NaN  NaN    5.0\ng  NaN  NaN    6.0\n"
     ]
    }
   ],
   "source": [
    "#keys参数创建一个层次化索引\n",
    "print(pd.concat([arr2,arr2,arr4],keys=['one','two','three'])) \n",
    "print('-------------------')\n",
    "#axis=1，keys参数设置cloumn name，如果已经有column name，则设置2级column name\n",
    "print(pd.concat([arr2,arr2,arr4],axis=1,keys=['one','two','three']))"
   ]
  },
  {
   "cell_type": "code",
   "execution_count": 68,
   "metadata": {},
   "outputs": [
    {
     "name": "stdout",
     "output_type": "stream",
     "text": [
      "  level1     level2     \n     one two  three four\na      0   1    0.0  1.0\nb      2   3    NaN  NaN\nc      4   5    2.0  3.0\n-------------------\n  level1     level2     \n     one two  three four\na      0   1    0.0  1.0\nb      2   3    NaN  NaN\nc      4   5    2.0  3.0\n-------------------\n"
     ]
    },
    {
     "name": "stdout",
     "output_type": "stream",
     "text": [
      "   four  one  three  two\n0   NaN  0.0    NaN  1.0\n1   NaN  2.0    NaN  3.0\n2   NaN  4.0    NaN  5.0\n3   1.0  NaN    0.0  NaN\n4   3.0  NaN    2.0  NaN\n"
     ]
    }
   ],
   "source": [
    "data1=pd.DataFrame(np.arange(6).reshape(3,2),index=['a','b','c'],columns=['one','two'])\n",
    "data2=pd.DataFrame(np.arange(4).reshape(2,2),index=['a','c'],columns=['three','four'])\n",
    "print(pd.concat([data1,data2],axis=1,keys=['level1','level2']))\n",
    "print('-------------------')\n",
    "#如果传入的是不是list而是一个dict，则字典的key会被当做keys参数的值\n",
    "print(pd.concat({'level1':data1,'level2':data2},axis=1))\n",
    "print('-------------------')\n",
    "print(pd.concat([data1,data2],ignore_index=True)) #忽略原轴的index"
   ]
  },
  {
   "cell_type": "code",
   "execution_count": 74,
   "metadata": {},
   "outputs": [
    {
     "name": "stdout",
     "output_type": "stream",
     "text": [
      "a    NaN\nb    2.5\nc    NaN\nd    3.5\ne    4.5\nf    NaN\ndtype: float64\na    0.0\nb    1.0\nc    2.0\nd    3.0\ne    4.0\nf    NaN\ndtype: float64\n-------------------\n[ 0.   2.5  2.   3.5  4.5  nan]\na    NaN\nb    2.5\nc    2.0\nd    3.5\ne    4.0\nf    NaN\ndtype: float64\n-------------------\n     a    b     c\n0  1.0  NaN   2.0\n1  4.0  2.0   6.0\n2  5.0  4.0  10.0\n3  3.0  6.0  14.0\n4  7.0  8.0   NaN\n"
     ]
    }
   ],
   "source": [
    "'''使用NumPy的where()索引部分重叠的数据'''\n",
    "arr6=pd.Series([np.nan,2.5,np.nan,3.5,4.5,np.nan],index=['a','b','c','d','e','f'])\n",
    "arr7=pd.Series(np.arange(len(arr6),dtype=np.float64),index=['a','b','c','d','e','f'])\n",
    "arr7[-1]=np.nan\n",
    "print(arr6)\n",
    "print(arr7)\n",
    "print('-------------------')\n",
    "print(np.where(pd.isnull(arr6),arr7,arr6))\n",
    "#Series的combine_first()实现相同的功能，还是进行index排序对齐\n",
    "print(arr6[:-2].combine_first(arr7[2:]))\n",
    "print('-------------------')\n",
    "#DataFrame的Combine_first\n",
    "data3=pd.DataFrame({'a':[1,np.nan,5,np.nan],'b':[np.nan,2,np.nan,6],'c':range(2,18,4)})\n",
    "data4=pd.DataFrame({'a':[5,4,np.nan,3,7],'b':[np.nan,3,4,6,8]})\n",
    "print(data3.combine_first(data4))"
   ]
  },
  {
   "cell_type": "markdown",
   "metadata": {},
   "source": [
    "## 重塑(reshape)和旋转(pivot)\n",
    "重新排列表格型数据的函数\n",
    "- stack：将数据的列转换为行\n",
    "- unstack：将数据的行转换为列"
   ]
  },
  {
   "cell_type": "code",
   "execution_count": 77,
   "metadata": {},
   "outputs": [
    {
     "name": "stdout",
     "output_type": "stream",
     "text": [
      "number    one  two  three\nstate                    \nOhio        0    1      2\nColorado    3    4      5\n-------------------\nstate     number\nOhio      one       0\n          two       1\n          three     2\nColorado  one       3\n          two       4\n          three     5\ndtype: int32\n-------------------\nnumber    one  two  three\nstate                    \nOhio        0    1      2\nColorado    3    4      5\n"
     ]
    }
   ],
   "source": [
    "data5=pd.DataFrame(np.arange(6).reshape(2,3),index=pd.Index(['Ohio','Colorado'],name='state'),columns=pd.Index(['one','two','three'],name='number'))\n",
    "print(data5)\n",
    "print('-------------------')\n",
    "print(data5.stack()) #stack()将column name转换为行，生成层次化索引\n",
    "print('-------------------')\n",
    "print(data5.stack().unstack())"
   ]
  },
  {
   "cell_type": "code",
   "execution_count": 82,
   "metadata": {},
   "outputs": [
    {
     "name": "stdout",
     "output_type": "stream",
     "text": [
      "    k1  k2\n0  one   1\n1  one   1\n2  one   2\n3  two   3\n4  two   3\n5  two   4\n6  two   4\n-------------------\n0    False\n1     True\n2    False\n3    False\n4     True\n5    False\n6     True\ndtype: bool\n-------------------\n    k1  k2\n0  one   1\n2  one   2\n3  two   3\n5  two   4\n-------------------\n    k1  k2\n0  one   1\n3  two   3\n    k1  k2\n0  one   1\n2  one   2\n3  two   3\n5  two   4\n"
     ]
    }
   ],
   "source": [
    "'''移除重复数据'''\n",
    "data6=pd.DataFrame({'k1':['one']*3+['two']*4,'k2':[1,1,2,3,3,4,4]})\n",
    "print(data6)\n",
    "print('-------------------')\n",
    "print(data6.duplicated())\n",
    "print('-------------------')\n",
    "print(data6.drop_duplicates()) #drop_duplicates()删除重复数据\n",
    "print('-------------------')\n",
    "print(data6.drop_duplicates(['k1']))\n",
    "print(data6.drop_duplicates(['k2']))"
   ]
  },
  {
   "cell_type": "code",
   "execution_count": 85,
   "metadata": {},
   "outputs": [
    {
     "name": "stdout",
     "output_type": "stream",
     "text": [
      "          food  ouces\n0        bacon    4.0\n1  pulled pork    3.0\n2        bacon   12.0\n3     Pastrami    6.0\n4  corned beef    7.5\n5        Bacon    8.0\n6     pastrami    3.0\n7    honey ham    5.0\n8     nova lox    6.0\n-------------------\n          food  ouces  animal\n0        bacon    4.0     pig\n1  pulled pork    3.0     pig\n2        bacon   12.0     pig\n3     Pastrami    6.0     cow\n4  corned beef    7.5     cow\n5        Bacon    8.0     pig\n6     pastrami    3.0     cow\n7    honey ham    5.0     pig\n8     nova lox    6.0  salmon\n"
     ]
    }
   ],
   "source": [
    "'''Series的map()：映射进行数据转换'''\n",
    "data7=pd.DataFrame({'food':['bacon','pulled pork','bacon','Pastrami','corned beef','Bacon','pastrami','honey ham','nova lox'],'ouces':[4,3,12,6,7.5,8,3,5,6]})\n",
    "print(data7)\n",
    "print('-------------------')\n",
    "#现在要添加肉类对应的动物类型到数据中\n",
    "meat_to_animal={'bacon':'pig','pulled pork':'pig','pastrami':'cow','corned beef':'cow','honey ham':'pig','nova lox':'salmon'}\n",
    "data7['animal']=data7['food'].map(str.lower).map(meat_to_animal)\n",
    "print(data7)"
   ]
  },
  {
   "cell_type": "code",
   "execution_count": 90,
   "metadata": {},
   "outputs": [
    {
     "name": "stdout",
     "output_type": "stream",
     "text": [
      "0       1\n1    -999\n2       2\n3    -999\n4   -1000\n5       3\ndtype: int64\n-------------------\n0       1.0\n1       NaN\n2       2.0\n3       NaN\n4   -1000.0\n5       3.0\ndtype: float64\n-------------------\n0    1.0\n1    NaN\n2    2.0\n3    NaN\n4    NaN\n5    3.0\ndtype: float64\n"
     ]
    }
   ],
   "source": [
    "'''replace()替换value'''\n",
    "data8=pd.Series([1,-999,2,-999,-1000,3])\n",
    "print(data8)\n",
    "print('-------------------')\n",
    "print(data8.replace(-999,np.nan))\n",
    "print('-------------------')\n",
    "print(data8.replace([-999,-1000],np.nan)) #替换多个值，传入一个list"
   ]
  },
  {
   "cell_type": "code",
   "execution_count": 100,
   "metadata": {},
   "outputs": [
    {
     "name": "stdout",
     "output_type": "stream",
     "text": [
      "          one  two  three  four\nOhio        0    1      2     3\nColorado    4    5      6     7\nNew York    8    9     10    11\n-------------------\n          one  two  three  four\nOHIO        0    1      2     3\nCOLORADO    4    5      6     7\nNEW YORK    8    9     10    11\n-------------------\n          ONE  TWO  THREE  FOUR\nOhio        0    1      2     3\nColorado    4    5      6     7\nNew York    8    9     10    11\n-------------------\n          one  two  three  five\nINDIANA     0    1      2     3\nCOLORADO    4    5      6     7\nNEW YORK    8    9     10    11\n-------------------\n"
     ]
    },
    {
     "name": "stdout",
     "output_type": "stream",
     "text": [
      "None\n"
     ]
    }
   ],
   "source": [
    "'''rename():重命名轴索引'''\n",
    "data9=pd.DataFrame(np.arange(12).reshape(3,4),index=['Ohio','Colorado','New York'],columns=['one','two','three','four'])\n",
    "print(data9)\n",
    "print('-------------------')\n",
    "data9.index=data9.index.map(str.upper) #注意upper不要加括号\n",
    "print(data9)\n",
    "print('-------------------')\n",
    "print(data9.rename(index=str.title,columns=str.upper)) #注意，rename()函数并不是修改原数据，而是创建数据集的转换版\n",
    "print('-------------------')\n",
    "print(data9.rename(index={'OHIO':'INDIANA'},columns={'four':'five'})) #修改单行/列\n",
    "print('-------------------')\n",
    "print(data9.rename(index={'OHIO':'INDIANA'},columns={'four':'five'},inplace=True)) #如果想修改原数据就设置参数inplace=True"
   ]
  },
  {
   "cell_type": "code",
   "execution_count": 118,
   "metadata": {},
   "outputs": [
    {
     "name": "stdout",
     "output_type": "stream",
     "text": [
      "[(18, 25], (18, 25], (18, 25], (25, 35], (18, 25], ..., (25, 35], (60, 100], (35, 60], (35, 60], (25, 35]]\nLength: 12\nCategories (4, object): [(18, 25] < (25, 35] < (35, 60] < (60, 100]]\n-------------------\n[0 0 0 1 0 0 2 1 3 2 2 1]\n-------------------\n(18, 25]     5\n(35, 60]     3\n(25, 35]     3\n(60, 100]    1\ndtype: int64\n-------------------\n[[18, 25), [18, 25), [25, 35), [25, 35), [18, 25), ..., [25, 35), [60, 100), [35, 60), [35, 60), [25, 35)]\nLength: 12\nCategories (4, object): [[18, 25) < [25, 35) < [35, 60) < [60, 100)]\n-------------------\n[小伙子, 小伙子, 小伙子, 年轻人, 小伙子, ..., 年轻人, 老年人, 中年人, 中年人, 年轻人]\nLength: 12\nCategories (4, object): [小伙子 < 年轻人 < 中年人 < 老年人]\n-------------------\n[(19.959, 30.25], (19.959, 30.25], (19.959, 30.25], (19.959, 30.25], (19.959, 30.25], ..., (30.25, 40.5], (50.75, 61], (40.5, 50.75], (40.5, 50.75], (30.25, 40.5]]\nLength: 12\nCategories (4, object): [(19.959, 30.25] < (30.25, 40.5] < (40.5, 50.75] < (50.75, 61]]\n-------------------\n[(20, 30.2], (20, 30.2], (20, 30.2], (20, 30.2], (20, 30.2], ..., (30.2, 40.5], (50.8, 61], (40.5, 50.8], (40.5, 50.8], (30.2, 40.5]]\nLength: 12\nCategories (4, object): [(20, 30.2] < (30.2, 40.5] < (40.5, 50.8] < (50.8, 61]]\n"
     ]
    }
   ],
   "source": [
    "'''pandas的cut():连续数据离散化拆分成'面元'(bin)    '''\n",
    "arr8=[20,22,25,27,21,23,37,31,61,45,41,32] #年龄数据\n",
    "cut_arr=[18,25,35,60,100] #划分年龄\n",
    "arr9=pd.cut(arr8,cut_arr) #cut()函数返回一个Categorical对象\n",
    "print(arr9)\n",
    "print('-------------------')\n",
    "print(arr9.codes) #label属性对年龄段数据进行标号\n",
    "print('-------------------')\n",
    "print(pd.value_counts(arr9))\n",
    "print('-------------------')\n",
    "#cut()的参数\n",
    "arr10=pd.cut(arr8,cut_arr,right=False) #默认分组是左开右闭，right=False设置左闭右开\n",
    "print(arr10)\n",
    "print('-------------------')\n",
    "print(pd.cut(arr8,cut_arr,labels=['小伙子','年轻人','中年人','老年人'])) #labels设置面元的名称\n",
    "print('-------------------')\n",
    "print(pd.cut(arr8,4)) #如果传入面元的数量而不是面元的边界，函数会根据最小值和最大值计算等长面元\n",
    "print('-------------------')\n",
    "print(pd.cut(arr8,4,precision=1)) #precision参数设置精确度，默认小数点后保留3位"
   ]
  },
  {
   "cell_type": "code",
   "execution_count": 122,
   "metadata": {},
   "outputs": [
    {
     "name": "stdout",
     "output_type": "stream",
     "text": [
      "[(-0.62, 0.6], (-0.62, 0.6], (-0.62, 0.6], (0.6, 1.83], (0.6, 1.83], ..., (0.6, 1.83], (-0.62, 0.6], (-0.62, 0.6], (-0.62, 0.6], (-1.85, -0.62]]\nLength: 1000\nCategories (5, object): [(-3.076, -1.85] < (-1.85, -0.62] < (-0.62, 0.6] < (0.6, 1.83] < (1.83, 3.051]]\n(-0.62, 0.6]       447\n(0.6, 1.83]        247\n(-1.85, -0.62]     242\n(-3.076, -1.85]     41\n(1.83, 3.051]       23\ndtype: int64\n-------------------\n[(-0.27, 0.2], (-0.27, 0.2], (0.2, 0.83], (0.83, 3.051], (0.83, 3.051], ..., (0.83, 3.051], (-0.27, 0.2], (-0.27, 0.2], (0.2, 0.83], [-3.069, -0.91]]\nLength: 1000\nCategories (5, object): [[-3.069, -0.91] < (-0.91, -0.27] < (-0.27, 0.2] < (0.2, 0.83] < (0.83, 3.051]]\n(0.83, 3.051]      200\n(0.2, 0.83]        200\n(-0.27, 0.2]       200\n(-0.91, -0.27]     200\n[-3.069, -0.91]    200\ndtype: int64\n-------------------\n"
     ]
    }
   ],
   "source": [
    "'''pandas的qcut()函数：与cut()很相似。qcut()还可以根据样本分位数进行过面元划分，可以得到大小基本相等的面元 '''\n",
    "arr11=np.random.randn(1000)\n",
    "arr12=pd.cut(arr11,5,precision=2)\n",
    "print(arr12)\n",
    "print(pd.value_counts(arr12))\n",
    "print('-------------------')\n",
    "arr13=pd.qcut(arr11,5,precision=2)\n",
    "print(arr13)\n",
    "print(pd.value_counts(arr13))\n",
    "print('-------------------')"
   ]
  },
  {
   "cell_type": "code",
   "execution_count": 136,
   "metadata": {},
   "outputs": [
    {
     "name": "stdout",
     "output_type": "stream",
     "text": [
      "<bound method DataFrame.describe of             0         1         2         3\n0    0.287240 -0.430738  0.331949  0.384516\n1    1.572674  0.910432 -1.356146  0.983332\n2    0.660219  0.189345 -0.139494  0.086400\n3   -0.487755 -0.989152  1.383950 -0.373748\n4   -0.397469  1.350276  1.530688 -0.398101\n5    0.273168  0.219817 -0.265810  0.502540\n6   -0.672474 -0.730212 -0.200615 -1.315972\n7   -1.529583 -0.293518 -0.799729 -0.044376\n8    0.179019  1.792138  1.317383 -1.346169\n9    1.313557 -0.439941 -0.977049  1.414809\n10  -0.112460  0.114610  0.074789 -0.536046\n11   0.650535 -1.072981  0.527290 -0.304948\n12   0.412234 -1.360951 -0.131575  0.822279\n13   0.757350  0.362794  1.517306 -0.040360\n14  -0.029886  0.095837  0.561448 -0.454664\n15   0.279548  0.253806  0.683898  0.369121\n16  -0.484580  0.731680 -0.233117  1.228052\n17  -1.342085  0.314506  1.263326 -0.519255\n18  -1.091740 -0.033414  1.080969  1.434657\n19   0.163717 -0.990361  1.081009 -0.655894\n20   1.574490 -0.132031 -0.878985 -1.041336\n21  -0.502949  1.028852  0.671958  0.619373\n22   1.134713 -0.128213 -2.059452 -0.236743\n23   0.825062 -1.525535  1.086214 -1.294207\n24   1.536738  0.771699  0.912668  0.506622\n25   1.694866  0.300824 -0.398451 -0.095525\n26   0.709734 -0.326007  0.884377  1.206628\n27  -0.941386  0.324656 -0.262283 -0.130956\n28   0.429461 -0.170044  1.314853  0.780028\n29  -1.069365 -0.709242 -0.466863  1.462872\n..        ...       ...       ...       ...\n970 -0.439587 -1.189146  1.000720  1.744558\n971 -0.450410  1.820775 -0.723082  0.882983\n972  0.544285 -1.562311  2.143654 -2.157554\n973 -1.621560 -1.454342 -0.334005  0.209539\n974  0.255179 -1.536854  1.018458  0.792295\n975  1.961219  0.446964  0.167271 -0.770244\n976  0.948381 -1.032923  0.589477 -0.434610\n977  1.223968 -1.312642 -0.560167  0.867143\n978  0.515143 -0.970522  0.680346  1.567403\n979  0.070254  0.076512  1.113257  0.841619\n980 -0.161205  0.809080  1.550602  0.701175\n981 -2.152406 -1.035183 -1.482341  1.387171\n982  0.762606  0.220973 -0.751631 -1.093926\n983 -0.167801 -0.240318  0.679759  0.285431\n984  0.037234 -0.229008  0.987566 -1.100490\n985 -0.977830  1.052120  3.491338 -1.276637\n986  1.632597  2.309652 -0.331399  1.840108\n987  1.724549  0.435300  0.893421 -0.266202\n988 -0.879342  1.172395  1.505045 -0.002815\n989  1.574437 -1.037120  2.163551  0.098337\n990  0.610700 -0.461466  2.479681  1.579324\n991  0.843886  0.564399  0.495159  0.738238\n992  0.137892  0.052983  1.092315  1.465989\n993 -0.961468 -0.505585 -1.097631 -0.021567\n994 -1.525691 -0.054400 -1.212215 -0.182954\n995  0.107933 -1.398836 -1.122439 -0.510062\n996 -0.550438 -1.143012 -0.959662  0.778006\n997  0.448965 -0.919630  0.079680 -0.363197\n998  0.907297  0.584065  0.850916 -1.555958\n999  0.413005  1.133760 -1.674388 -0.334120\n\n[1000 rows x 4 columns]>\n-------------------\n            0         1         2         3\n87  -0.057047 -0.352740 -3.000040  0.427645\n375  0.635937 -0.675052 -3.157469  0.575690\n418 -1.444078 -3.052674 -0.524153 -0.549390\n532 -3.007737  0.392206 -0.522496  1.984931\n554  0.139084  0.827361  0.823069  3.342057\n858 -1.305284  1.828773 -0.647314 -3.129151\n985 -0.977830  1.052120  3.491338 -1.276637\n-------------------\n554    3.342057\n858   -3.129151\nName: 3, dtype: float64\n"
     ]
    }
   ],
   "source": [
    "'''检测和过滤异常值'''\n",
    "data10=pd.DataFrame(np.random.randn(1000,4))\n",
    "print(data10.describe)\n",
    "print('-------------------')\n",
    "print(data10[(np.abs(data10)>3).any(1)]) #含有value>3的数据行\n",
    "print('-------------------')\n",
    "arr14=data10[3]\n",
    "print(arr14[(np.abs(arr14)>3)]) #选出某列中value>3的数据"
   ]
  },
  {
   "cell_type": "code",
   "execution_count": 138,
   "metadata": {},
   "outputs": [
    {
     "name": "stdout",
     "output_type": "stream",
     "text": [
      "[4 3 0 2 1]\n-------------------\n    0   1   2   3\n4  16  17  18  19\n3  12  13  14  15\n0   0   1   2   3\n2   8   9  10  11\n1   4   5   6   7\n"
     ]
    }
   ],
   "source": [
    "'''take():排列和随机采样'''\n",
    "data11=pd.DataFrame(np.arange(5*4).reshape(5,4))\n",
    "arr15=np.random.permutation(5)\n",
    "print(arr15)\n",
    "print('-------------------')\n",
    "print(data11.take(arr15))"
   ]
  },
  {
   "cell_type": "code",
   "execution_count": 142,
   "metadata": {},
   "outputs": [
    {
     "name": "stdout",
     "output_type": "stream",
     "text": [
      "   data key\n0     0   b\n1     1   b\n2     2   a\n3     3   c\n4     4   a\n5     5   b\n-------------------\n   key_a  key_b  key_c\n0      0      1      0\n1      0      1      0\n2      1      0      0\n3      0      0      1\n4      1      0      0\n5      0      1      0\n"
     ]
    }
   ],
   "source": [
    "'''计算指标/哑变量\n",
    "    get_dummies():DataFrame某一列中含有k个不同的值，可以派生出一个k列矩阵或DataFrame(value全都是0和1)'''\n",
    "data12=pd.DataFrame({'key':['b','b','a','c','a','b'],'data':range(6)})\n",
    "print(data12)\n",
    "print('-------------------')\n",
    "print(pd.get_dummies(data12['key'],prefix='key')) #prefix参数加前缀"
   ]
  },
  {
   "cell_type": "code",
   "execution_count": 149,
   "metadata": {},
   "outputs": [
    {
     "name": "stdout",
     "output_type": "stream",
     "text": [
      "['a', 'b', '  guido']\n['a', 'b', 'guido']\na::b::guido\n1\n-1\n2\n"
     ]
    }
   ],
   "source": [
    "'''字符串操作'''\n",
    "arr16='a,b,  guido'\n",
    "print(arr16.split(','))\n",
    "print([i.strip( )for i in arr16.split(',')]) #strip()修剪空白符\n",
    "print('::'.join([i.strip( )for i in arr16.split(',')]))\n",
    "'''子串定位：关键字in/index/find'''\n",
    "print(arr16.index(','))\n",
    "print(arr16.find(':'))\n",
    "print(arr16.count(','))"
   ]
  },
  {
   "cell_type": "markdown",
   "metadata": {},
   "source": [
    "## Python内置的字符串方法\n",
    "![](http://i1.piimg.com/567571/abf407822f279e2a.png)\n",
    "![](http://i1.piimg.com/567571/87e16c70e5ec72e9.png)"
   ]
  },
  {
   "cell_type": "code",
   "execution_count": null,
   "metadata": {},
   "outputs": [],
   "source": [
    ""
   ]
  }
 ],
 "metadata": {
  "kernelspec": {
   "display_name": "Python 2",
   "language": "python",
   "name": "python2"
  },
  "language_info": {
   "codemirror_mode": {
    "name": "ipython",
    "version": 2.0
   },
   "file_extension": ".py",
   "mimetype": "text/x-python",
   "name": "python",
   "nbconvert_exporter": "python",
   "pygments_lexer": "ipython2",
   "version": "2.7.6"
  }
 },
 "nbformat": 4,
 "nbformat_minor": 0
}